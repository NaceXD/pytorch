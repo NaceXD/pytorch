{
  "nbformat": 4,
  "nbformat_minor": 0,
  "metadata": {
    "colab": {
      "provenance": [],
      "gpuType": "T4"
    },
    "kernelspec": {
      "name": "python3",
      "display_name": "Python 3"
    },
    "language_info": {
      "name": "python"
    },
    "accelerator": "GPU",
    "widgets": {
      "application/vnd.jupyter.widget-state+json": {
        "b83deff35a8d4effbc9c81f11b29300a": {
          "model_module": "@jupyter-widgets/controls",
          "model_name": "HBoxModel",
          "model_module_version": "1.5.0",
          "state": {
            "_dom_classes": [],
            "_model_module": "@jupyter-widgets/controls",
            "_model_module_version": "1.5.0",
            "_model_name": "HBoxModel",
            "_view_count": null,
            "_view_module": "@jupyter-widgets/controls",
            "_view_module_version": "1.5.0",
            "_view_name": "HBoxView",
            "box_style": "",
            "children": [
              "IPY_MODEL_5285ab78127147e488afbc7430227b7b",
              "IPY_MODEL_82827b66592d472c94b2360e3382480f",
              "IPY_MODEL_e44ce42e03da41428115a72960ca1744"
            ],
            "layout": "IPY_MODEL_e7898369a0e94e12963c86c4739e7eae"
          }
        },
        "5285ab78127147e488afbc7430227b7b": {
          "model_module": "@jupyter-widgets/controls",
          "model_name": "HTMLModel",
          "model_module_version": "1.5.0",
          "state": {
            "_dom_classes": [],
            "_model_module": "@jupyter-widgets/controls",
            "_model_module_version": "1.5.0",
            "_model_name": "HTMLModel",
            "_view_count": null,
            "_view_module": "@jupyter-widgets/controls",
            "_view_module_version": "1.5.0",
            "_view_name": "HTMLView",
            "description": "",
            "description_tooltip": null,
            "layout": "IPY_MODEL_82fb5905e30241d09b9391b236a5512f",
            "placeholder": "​",
            "style": "IPY_MODEL_a7674c48d3ec4984b591ce304f564a45",
            "value": "config.json: 100%"
          }
        },
        "82827b66592d472c94b2360e3382480f": {
          "model_module": "@jupyter-widgets/controls",
          "model_name": "FloatProgressModel",
          "model_module_version": "1.5.0",
          "state": {
            "_dom_classes": [],
            "_model_module": "@jupyter-widgets/controls",
            "_model_module_version": "1.5.0",
            "_model_name": "FloatProgressModel",
            "_view_count": null,
            "_view_module": "@jupyter-widgets/controls",
            "_view_module_version": "1.5.0",
            "_view_name": "ProgressView",
            "bar_style": "success",
            "description": "",
            "description_tooltip": null,
            "layout": "IPY_MODEL_68171f2578a64d4fb16c3d8c35f0ab6b",
            "max": 1042,
            "min": 0,
            "orientation": "horizontal",
            "style": "IPY_MODEL_f0ef4b78eb25468d8674297eb23b2e6b",
            "value": 1042
          }
        },
        "e44ce42e03da41428115a72960ca1744": {
          "model_module": "@jupyter-widgets/controls",
          "model_name": "HTMLModel",
          "model_module_version": "1.5.0",
          "state": {
            "_dom_classes": [],
            "_model_module": "@jupyter-widgets/controls",
            "_model_module_version": "1.5.0",
            "_model_name": "HTMLModel",
            "_view_count": null,
            "_view_module": "@jupyter-widgets/controls",
            "_view_module_version": "1.5.0",
            "_view_name": "HTMLView",
            "description": "",
            "description_tooltip": null,
            "layout": "IPY_MODEL_7e171911f4fd4e5a96d065ac2d37374d",
            "placeholder": "​",
            "style": "IPY_MODEL_0aa3a2d6129a400a94b55fcfecfe353f",
            "value": " 1.04k/1.04k [00:00&lt;00:00, 61.2kB/s]"
          }
        },
        "e7898369a0e94e12963c86c4739e7eae": {
          "model_module": "@jupyter-widgets/base",
          "model_name": "LayoutModel",
          "model_module_version": "1.2.0",
          "state": {
            "_model_module": "@jupyter-widgets/base",
            "_model_module_version": "1.2.0",
            "_model_name": "LayoutModel",
            "_view_count": null,
            "_view_module": "@jupyter-widgets/base",
            "_view_module_version": "1.2.0",
            "_view_name": "LayoutView",
            "align_content": null,
            "align_items": null,
            "align_self": null,
            "border": null,
            "bottom": null,
            "display": null,
            "flex": null,
            "flex_flow": null,
            "grid_area": null,
            "grid_auto_columns": null,
            "grid_auto_flow": null,
            "grid_auto_rows": null,
            "grid_column": null,
            "grid_gap": null,
            "grid_row": null,
            "grid_template_areas": null,
            "grid_template_columns": null,
            "grid_template_rows": null,
            "height": null,
            "justify_content": null,
            "justify_items": null,
            "left": null,
            "margin": null,
            "max_height": null,
            "max_width": null,
            "min_height": null,
            "min_width": null,
            "object_fit": null,
            "object_position": null,
            "order": null,
            "overflow": null,
            "overflow_x": null,
            "overflow_y": null,
            "padding": null,
            "right": null,
            "top": null,
            "visibility": null,
            "width": null
          }
        },
        "82fb5905e30241d09b9391b236a5512f": {
          "model_module": "@jupyter-widgets/base",
          "model_name": "LayoutModel",
          "model_module_version": "1.2.0",
          "state": {
            "_model_module": "@jupyter-widgets/base",
            "_model_module_version": "1.2.0",
            "_model_name": "LayoutModel",
            "_view_count": null,
            "_view_module": "@jupyter-widgets/base",
            "_view_module_version": "1.2.0",
            "_view_name": "LayoutView",
            "align_content": null,
            "align_items": null,
            "align_self": null,
            "border": null,
            "bottom": null,
            "display": null,
            "flex": null,
            "flex_flow": null,
            "grid_area": null,
            "grid_auto_columns": null,
            "grid_auto_flow": null,
            "grid_auto_rows": null,
            "grid_column": null,
            "grid_gap": null,
            "grid_row": null,
            "grid_template_areas": null,
            "grid_template_columns": null,
            "grid_template_rows": null,
            "height": null,
            "justify_content": null,
            "justify_items": null,
            "left": null,
            "margin": null,
            "max_height": null,
            "max_width": null,
            "min_height": null,
            "min_width": null,
            "object_fit": null,
            "object_position": null,
            "order": null,
            "overflow": null,
            "overflow_x": null,
            "overflow_y": null,
            "padding": null,
            "right": null,
            "top": null,
            "visibility": null,
            "width": null
          }
        },
        "a7674c48d3ec4984b591ce304f564a45": {
          "model_module": "@jupyter-widgets/controls",
          "model_name": "DescriptionStyleModel",
          "model_module_version": "1.5.0",
          "state": {
            "_model_module": "@jupyter-widgets/controls",
            "_model_module_version": "1.5.0",
            "_model_name": "DescriptionStyleModel",
            "_view_count": null,
            "_view_module": "@jupyter-widgets/base",
            "_view_module_version": "1.2.0",
            "_view_name": "StyleView",
            "description_width": ""
          }
        },
        "68171f2578a64d4fb16c3d8c35f0ab6b": {
          "model_module": "@jupyter-widgets/base",
          "model_name": "LayoutModel",
          "model_module_version": "1.2.0",
          "state": {
            "_model_module": "@jupyter-widgets/base",
            "_model_module_version": "1.2.0",
            "_model_name": "LayoutModel",
            "_view_count": null,
            "_view_module": "@jupyter-widgets/base",
            "_view_module_version": "1.2.0",
            "_view_name": "LayoutView",
            "align_content": null,
            "align_items": null,
            "align_self": null,
            "border": null,
            "bottom": null,
            "display": null,
            "flex": null,
            "flex_flow": null,
            "grid_area": null,
            "grid_auto_columns": null,
            "grid_auto_flow": null,
            "grid_auto_rows": null,
            "grid_column": null,
            "grid_gap": null,
            "grid_row": null,
            "grid_template_areas": null,
            "grid_template_columns": null,
            "grid_template_rows": null,
            "height": null,
            "justify_content": null,
            "justify_items": null,
            "left": null,
            "margin": null,
            "max_height": null,
            "max_width": null,
            "min_height": null,
            "min_width": null,
            "object_fit": null,
            "object_position": null,
            "order": null,
            "overflow": null,
            "overflow_x": null,
            "overflow_y": null,
            "padding": null,
            "right": null,
            "top": null,
            "visibility": null,
            "width": null
          }
        },
        "f0ef4b78eb25468d8674297eb23b2e6b": {
          "model_module": "@jupyter-widgets/controls",
          "model_name": "ProgressStyleModel",
          "model_module_version": "1.5.0",
          "state": {
            "_model_module": "@jupyter-widgets/controls",
            "_model_module_version": "1.5.0",
            "_model_name": "ProgressStyleModel",
            "_view_count": null,
            "_view_module": "@jupyter-widgets/base",
            "_view_module_version": "1.2.0",
            "_view_name": "StyleView",
            "bar_color": null,
            "description_width": ""
          }
        },
        "7e171911f4fd4e5a96d065ac2d37374d": {
          "model_module": "@jupyter-widgets/base",
          "model_name": "LayoutModel",
          "model_module_version": "1.2.0",
          "state": {
            "_model_module": "@jupyter-widgets/base",
            "_model_module_version": "1.2.0",
            "_model_name": "LayoutModel",
            "_view_count": null,
            "_view_module": "@jupyter-widgets/base",
            "_view_module_version": "1.2.0",
            "_view_name": "LayoutView",
            "align_content": null,
            "align_items": null,
            "align_self": null,
            "border": null,
            "bottom": null,
            "display": null,
            "flex": null,
            "flex_flow": null,
            "grid_area": null,
            "grid_auto_columns": null,
            "grid_auto_flow": null,
            "grid_auto_rows": null,
            "grid_column": null,
            "grid_gap": null,
            "grid_row": null,
            "grid_template_areas": null,
            "grid_template_columns": null,
            "grid_template_rows": null,
            "height": null,
            "justify_content": null,
            "justify_items": null,
            "left": null,
            "margin": null,
            "max_height": null,
            "max_width": null,
            "min_height": null,
            "min_width": null,
            "object_fit": null,
            "object_position": null,
            "order": null,
            "overflow": null,
            "overflow_x": null,
            "overflow_y": null,
            "padding": null,
            "right": null,
            "top": null,
            "visibility": null,
            "width": null
          }
        },
        "0aa3a2d6129a400a94b55fcfecfe353f": {
          "model_module": "@jupyter-widgets/controls",
          "model_name": "DescriptionStyleModel",
          "model_module_version": "1.5.0",
          "state": {
            "_model_module": "@jupyter-widgets/controls",
            "_model_module_version": "1.5.0",
            "_model_name": "DescriptionStyleModel",
            "_view_count": null,
            "_view_module": "@jupyter-widgets/base",
            "_view_module_version": "1.2.0",
            "_view_name": "StyleView",
            "description_width": ""
          }
        },
        "18e4607b595f4e868345752e5e2509a1": {
          "model_module": "@jupyter-widgets/controls",
          "model_name": "HBoxModel",
          "model_module_version": "1.5.0",
          "state": {
            "_dom_classes": [],
            "_model_module": "@jupyter-widgets/controls",
            "_model_module_version": "1.5.0",
            "_model_name": "HBoxModel",
            "_view_count": null,
            "_view_module": "@jupyter-widgets/controls",
            "_view_module_version": "1.5.0",
            "_view_name": "HBoxView",
            "box_style": "",
            "children": [
              "IPY_MODEL_556de69c005249d187691a18615f86cc",
              "IPY_MODEL_5d5f99d3d64c44d2b3b5c2690cd7f654",
              "IPY_MODEL_46691214671c481489ed4df846cead88"
            ],
            "layout": "IPY_MODEL_99b588a055df42c4aa77456bb7e7127b"
          }
        },
        "556de69c005249d187691a18615f86cc": {
          "model_module": "@jupyter-widgets/controls",
          "model_name": "HTMLModel",
          "model_module_version": "1.5.0",
          "state": {
            "_dom_classes": [],
            "_model_module": "@jupyter-widgets/controls",
            "_model_module_version": "1.5.0",
            "_model_name": "HTMLModel",
            "_view_count": null,
            "_view_module": "@jupyter-widgets/controls",
            "_view_module_version": "1.5.0",
            "_view_name": "HTMLView",
            "description": "",
            "description_tooltip": null,
            "layout": "IPY_MODEL_4a0b94aad0e345b891746265be6cf4a6",
            "placeholder": "​",
            "style": "IPY_MODEL_b328d6b1a0d04dea9d571d17cad61731",
            "value": "model.safetensors: 100%"
          }
        },
        "5d5f99d3d64c44d2b3b5c2690cd7f654": {
          "model_module": "@jupyter-widgets/controls",
          "model_name": "FloatProgressModel",
          "model_module_version": "1.5.0",
          "state": {
            "_dom_classes": [],
            "_model_module": "@jupyter-widgets/controls",
            "_model_module_version": "1.5.0",
            "_model_name": "FloatProgressModel",
            "_view_count": null,
            "_view_module": "@jupyter-widgets/controls",
            "_view_module_version": "1.5.0",
            "_view_name": "ProgressView",
            "bar_style": "success",
            "description": "",
            "description_tooltip": null,
            "layout": "IPY_MODEL_13aa1028b8ab46f7850cea7ea48540f9",
            "max": 711447646,
            "min": 0,
            "orientation": "horizontal",
            "style": "IPY_MODEL_e7e76617a27d412288621d2263b7bcf0",
            "value": 711447646
          }
        },
        "46691214671c481489ed4df846cead88": {
          "model_module": "@jupyter-widgets/controls",
          "model_name": "HTMLModel",
          "model_module_version": "1.5.0",
          "state": {
            "_dom_classes": [],
            "_model_module": "@jupyter-widgets/controls",
            "_model_module_version": "1.5.0",
            "_model_name": "HTMLModel",
            "_view_count": null,
            "_view_module": "@jupyter-widgets/controls",
            "_view_module_version": "1.5.0",
            "_view_name": "HTMLView",
            "description": "",
            "description_tooltip": null,
            "layout": "IPY_MODEL_790acd014ae84632bcbae52bca5cee89",
            "placeholder": "​",
            "style": "IPY_MODEL_a8d9b84f57954e0cbc85b41c5709487d",
            "value": " 711M/711M [00:08&lt;00:00, 48.6MB/s]"
          }
        },
        "99b588a055df42c4aa77456bb7e7127b": {
          "model_module": "@jupyter-widgets/base",
          "model_name": "LayoutModel",
          "model_module_version": "1.2.0",
          "state": {
            "_model_module": "@jupyter-widgets/base",
            "_model_module_version": "1.2.0",
            "_model_name": "LayoutModel",
            "_view_count": null,
            "_view_module": "@jupyter-widgets/base",
            "_view_module_version": "1.2.0",
            "_view_name": "LayoutView",
            "align_content": null,
            "align_items": null,
            "align_self": null,
            "border": null,
            "bottom": null,
            "display": null,
            "flex": null,
            "flex_flow": null,
            "grid_area": null,
            "grid_auto_columns": null,
            "grid_auto_flow": null,
            "grid_auto_rows": null,
            "grid_column": null,
            "grid_gap": null,
            "grid_row": null,
            "grid_template_areas": null,
            "grid_template_columns": null,
            "grid_template_rows": null,
            "height": null,
            "justify_content": null,
            "justify_items": null,
            "left": null,
            "margin": null,
            "max_height": null,
            "max_width": null,
            "min_height": null,
            "min_width": null,
            "object_fit": null,
            "object_position": null,
            "order": null,
            "overflow": null,
            "overflow_x": null,
            "overflow_y": null,
            "padding": null,
            "right": null,
            "top": null,
            "visibility": null,
            "width": null
          }
        },
        "4a0b94aad0e345b891746265be6cf4a6": {
          "model_module": "@jupyter-widgets/base",
          "model_name": "LayoutModel",
          "model_module_version": "1.2.0",
          "state": {
            "_model_module": "@jupyter-widgets/base",
            "_model_module_version": "1.2.0",
            "_model_name": "LayoutModel",
            "_view_count": null,
            "_view_module": "@jupyter-widgets/base",
            "_view_module_version": "1.2.0",
            "_view_name": "LayoutView",
            "align_content": null,
            "align_items": null,
            "align_self": null,
            "border": null,
            "bottom": null,
            "display": null,
            "flex": null,
            "flex_flow": null,
            "grid_area": null,
            "grid_auto_columns": null,
            "grid_auto_flow": null,
            "grid_auto_rows": null,
            "grid_column": null,
            "grid_gap": null,
            "grid_row": null,
            "grid_template_areas": null,
            "grid_template_columns": null,
            "grid_template_rows": null,
            "height": null,
            "justify_content": null,
            "justify_items": null,
            "left": null,
            "margin": null,
            "max_height": null,
            "max_width": null,
            "min_height": null,
            "min_width": null,
            "object_fit": null,
            "object_position": null,
            "order": null,
            "overflow": null,
            "overflow_x": null,
            "overflow_y": null,
            "padding": null,
            "right": null,
            "top": null,
            "visibility": null,
            "width": null
          }
        },
        "b328d6b1a0d04dea9d571d17cad61731": {
          "model_module": "@jupyter-widgets/controls",
          "model_name": "DescriptionStyleModel",
          "model_module_version": "1.5.0",
          "state": {
            "_model_module": "@jupyter-widgets/controls",
            "_model_module_version": "1.5.0",
            "_model_name": "DescriptionStyleModel",
            "_view_count": null,
            "_view_module": "@jupyter-widgets/base",
            "_view_module_version": "1.2.0",
            "_view_name": "StyleView",
            "description_width": ""
          }
        },
        "13aa1028b8ab46f7850cea7ea48540f9": {
          "model_module": "@jupyter-widgets/base",
          "model_name": "LayoutModel",
          "model_module_version": "1.2.0",
          "state": {
            "_model_module": "@jupyter-widgets/base",
            "_model_module_version": "1.2.0",
            "_model_name": "LayoutModel",
            "_view_count": null,
            "_view_module": "@jupyter-widgets/base",
            "_view_module_version": "1.2.0",
            "_view_name": "LayoutView",
            "align_content": null,
            "align_items": null,
            "align_self": null,
            "border": null,
            "bottom": null,
            "display": null,
            "flex": null,
            "flex_flow": null,
            "grid_area": null,
            "grid_auto_columns": null,
            "grid_auto_flow": null,
            "grid_auto_rows": null,
            "grid_column": null,
            "grid_gap": null,
            "grid_row": null,
            "grid_template_areas": null,
            "grid_template_columns": null,
            "grid_template_rows": null,
            "height": null,
            "justify_content": null,
            "justify_items": null,
            "left": null,
            "margin": null,
            "max_height": null,
            "max_width": null,
            "min_height": null,
            "min_width": null,
            "object_fit": null,
            "object_position": null,
            "order": null,
            "overflow": null,
            "overflow_x": null,
            "overflow_y": null,
            "padding": null,
            "right": null,
            "top": null,
            "visibility": null,
            "width": null
          }
        },
        "e7e76617a27d412288621d2263b7bcf0": {
          "model_module": "@jupyter-widgets/controls",
          "model_name": "ProgressStyleModel",
          "model_module_version": "1.5.0",
          "state": {
            "_model_module": "@jupyter-widgets/controls",
            "_model_module_version": "1.5.0",
            "_model_name": "ProgressStyleModel",
            "_view_count": null,
            "_view_module": "@jupyter-widgets/base",
            "_view_module_version": "1.2.0",
            "_view_name": "StyleView",
            "bar_color": null,
            "description_width": ""
          }
        },
        "790acd014ae84632bcbae52bca5cee89": {
          "model_module": "@jupyter-widgets/base",
          "model_name": "LayoutModel",
          "model_module_version": "1.2.0",
          "state": {
            "_model_module": "@jupyter-widgets/base",
            "_model_module_version": "1.2.0",
            "_model_name": "LayoutModel",
            "_view_count": null,
            "_view_module": "@jupyter-widgets/base",
            "_view_module_version": "1.2.0",
            "_view_name": "LayoutView",
            "align_content": null,
            "align_items": null,
            "align_self": null,
            "border": null,
            "bottom": null,
            "display": null,
            "flex": null,
            "flex_flow": null,
            "grid_area": null,
            "grid_auto_columns": null,
            "grid_auto_flow": null,
            "grid_auto_rows": null,
            "grid_column": null,
            "grid_gap": null,
            "grid_row": null,
            "grid_template_areas": null,
            "grid_template_columns": null,
            "grid_template_rows": null,
            "height": null,
            "justify_content": null,
            "justify_items": null,
            "left": null,
            "margin": null,
            "max_height": null,
            "max_width": null,
            "min_height": null,
            "min_width": null,
            "object_fit": null,
            "object_position": null,
            "order": null,
            "overflow": null,
            "overflow_x": null,
            "overflow_y": null,
            "padding": null,
            "right": null,
            "top": null,
            "visibility": null,
            "width": null
          }
        },
        "a8d9b84f57954e0cbc85b41c5709487d": {
          "model_module": "@jupyter-widgets/controls",
          "model_name": "DescriptionStyleModel",
          "model_module_version": "1.5.0",
          "state": {
            "_model_module": "@jupyter-widgets/controls",
            "_model_module_version": "1.5.0",
            "_model_name": "DescriptionStyleModel",
            "_view_count": null,
            "_view_module": "@jupyter-widgets/base",
            "_view_module_version": "1.2.0",
            "_view_name": "StyleView",
            "description_width": ""
          }
        },
        "e82c6055f672446aa9bff6965b33387b": {
          "model_module": "@jupyter-widgets/controls",
          "model_name": "HBoxModel",
          "model_module_version": "1.5.0",
          "state": {
            "_dom_classes": [],
            "_model_module": "@jupyter-widgets/controls",
            "_model_module_version": "1.5.0",
            "_model_name": "HBoxModel",
            "_view_count": null,
            "_view_module": "@jupyter-widgets/controls",
            "_view_module_version": "1.5.0",
            "_view_name": "HBoxView",
            "box_style": "",
            "children": [
              "IPY_MODEL_337b2ce4bf594798b4484d350074c422",
              "IPY_MODEL_190608f0403b440a85619ed4206cff59",
              "IPY_MODEL_7663956ff1984647aa7efe538c4db1aa"
            ],
            "layout": "IPY_MODEL_9217995df07547eda96369e4b0ced5f1"
          }
        },
        "337b2ce4bf594798b4484d350074c422": {
          "model_module": "@jupyter-widgets/controls",
          "model_name": "HTMLModel",
          "model_module_version": "1.5.0",
          "state": {
            "_dom_classes": [],
            "_model_module": "@jupyter-widgets/controls",
            "_model_module_version": "1.5.0",
            "_model_name": "HTMLModel",
            "_view_count": null,
            "_view_module": "@jupyter-widgets/controls",
            "_view_module_version": "1.5.0",
            "_view_name": "HTMLView",
            "description": "",
            "description_tooltip": null,
            "layout": "IPY_MODEL_799dbbbd735b4354ade3a8bc53353027",
            "placeholder": "​",
            "style": "IPY_MODEL_5e8d945c9c854bbcabbfcfb18f951ab1",
            "value": "tokenizer_config.json: 100%"
          }
        },
        "190608f0403b440a85619ed4206cff59": {
          "model_module": "@jupyter-widgets/controls",
          "model_name": "FloatProgressModel",
          "model_module_version": "1.5.0",
          "state": {
            "_dom_classes": [],
            "_model_module": "@jupyter-widgets/controls",
            "_model_module_version": "1.5.0",
            "_model_name": "FloatProgressModel",
            "_view_count": null,
            "_view_module": "@jupyter-widgets/controls",
            "_view_module_version": "1.5.0",
            "_view_name": "ProgressView",
            "bar_style": "success",
            "description": "",
            "description_tooltip": null,
            "layout": "IPY_MODEL_90b9229c3b014119961dbb9933482add",
            "max": 585,
            "min": 0,
            "orientation": "horizontal",
            "style": "IPY_MODEL_e44e42606bda43129be7f908e192cded",
            "value": 585
          }
        },
        "7663956ff1984647aa7efe538c4db1aa": {
          "model_module": "@jupyter-widgets/controls",
          "model_name": "HTMLModel",
          "model_module_version": "1.5.0",
          "state": {
            "_dom_classes": [],
            "_model_module": "@jupyter-widgets/controls",
            "_model_module_version": "1.5.0",
            "_model_name": "HTMLModel",
            "_view_count": null,
            "_view_module": "@jupyter-widgets/controls",
            "_view_module_version": "1.5.0",
            "_view_name": "HTMLView",
            "description": "",
            "description_tooltip": null,
            "layout": "IPY_MODEL_6e40625634bc4d03be33eaa7d7976197",
            "placeholder": "​",
            "style": "IPY_MODEL_da23199ca2c54fa588ae15012efc057e",
            "value": " 585/585 [00:00&lt;00:00, 32.2kB/s]"
          }
        },
        "9217995df07547eda96369e4b0ced5f1": {
          "model_module": "@jupyter-widgets/base",
          "model_name": "LayoutModel",
          "model_module_version": "1.2.0",
          "state": {
            "_model_module": "@jupyter-widgets/base",
            "_model_module_version": "1.2.0",
            "_model_name": "LayoutModel",
            "_view_count": null,
            "_view_module": "@jupyter-widgets/base",
            "_view_module_version": "1.2.0",
            "_view_name": "LayoutView",
            "align_content": null,
            "align_items": null,
            "align_self": null,
            "border": null,
            "bottom": null,
            "display": null,
            "flex": null,
            "flex_flow": null,
            "grid_area": null,
            "grid_auto_columns": null,
            "grid_auto_flow": null,
            "grid_auto_rows": null,
            "grid_column": null,
            "grid_gap": null,
            "grid_row": null,
            "grid_template_areas": null,
            "grid_template_columns": null,
            "grid_template_rows": null,
            "height": null,
            "justify_content": null,
            "justify_items": null,
            "left": null,
            "margin": null,
            "max_height": null,
            "max_width": null,
            "min_height": null,
            "min_width": null,
            "object_fit": null,
            "object_position": null,
            "order": null,
            "overflow": null,
            "overflow_x": null,
            "overflow_y": null,
            "padding": null,
            "right": null,
            "top": null,
            "visibility": null,
            "width": null
          }
        },
        "799dbbbd735b4354ade3a8bc53353027": {
          "model_module": "@jupyter-widgets/base",
          "model_name": "LayoutModel",
          "model_module_version": "1.2.0",
          "state": {
            "_model_module": "@jupyter-widgets/base",
            "_model_module_version": "1.2.0",
            "_model_name": "LayoutModel",
            "_view_count": null,
            "_view_module": "@jupyter-widgets/base",
            "_view_module_version": "1.2.0",
            "_view_name": "LayoutView",
            "align_content": null,
            "align_items": null,
            "align_self": null,
            "border": null,
            "bottom": null,
            "display": null,
            "flex": null,
            "flex_flow": null,
            "grid_area": null,
            "grid_auto_columns": null,
            "grid_auto_flow": null,
            "grid_auto_rows": null,
            "grid_column": null,
            "grid_gap": null,
            "grid_row": null,
            "grid_template_areas": null,
            "grid_template_columns": null,
            "grid_template_rows": null,
            "height": null,
            "justify_content": null,
            "justify_items": null,
            "left": null,
            "margin": null,
            "max_height": null,
            "max_width": null,
            "min_height": null,
            "min_width": null,
            "object_fit": null,
            "object_position": null,
            "order": null,
            "overflow": null,
            "overflow_x": null,
            "overflow_y": null,
            "padding": null,
            "right": null,
            "top": null,
            "visibility": null,
            "width": null
          }
        },
        "5e8d945c9c854bbcabbfcfb18f951ab1": {
          "model_module": "@jupyter-widgets/controls",
          "model_name": "DescriptionStyleModel",
          "model_module_version": "1.5.0",
          "state": {
            "_model_module": "@jupyter-widgets/controls",
            "_model_module_version": "1.5.0",
            "_model_name": "DescriptionStyleModel",
            "_view_count": null,
            "_view_module": "@jupyter-widgets/base",
            "_view_module_version": "1.2.0",
            "_view_name": "StyleView",
            "description_width": ""
          }
        },
        "90b9229c3b014119961dbb9933482add": {
          "model_module": "@jupyter-widgets/base",
          "model_name": "LayoutModel",
          "model_module_version": "1.2.0",
          "state": {
            "_model_module": "@jupyter-widgets/base",
            "_model_module_version": "1.2.0",
            "_model_name": "LayoutModel",
            "_view_count": null,
            "_view_module": "@jupyter-widgets/base",
            "_view_module_version": "1.2.0",
            "_view_name": "LayoutView",
            "align_content": null,
            "align_items": null,
            "align_self": null,
            "border": null,
            "bottom": null,
            "display": null,
            "flex": null,
            "flex_flow": null,
            "grid_area": null,
            "grid_auto_columns": null,
            "grid_auto_flow": null,
            "grid_auto_rows": null,
            "grid_column": null,
            "grid_gap": null,
            "grid_row": null,
            "grid_template_areas": null,
            "grid_template_columns": null,
            "grid_template_rows": null,
            "height": null,
            "justify_content": null,
            "justify_items": null,
            "left": null,
            "margin": null,
            "max_height": null,
            "max_width": null,
            "min_height": null,
            "min_width": null,
            "object_fit": null,
            "object_position": null,
            "order": null,
            "overflow": null,
            "overflow_x": null,
            "overflow_y": null,
            "padding": null,
            "right": null,
            "top": null,
            "visibility": null,
            "width": null
          }
        },
        "e44e42606bda43129be7f908e192cded": {
          "model_module": "@jupyter-widgets/controls",
          "model_name": "ProgressStyleModel",
          "model_module_version": "1.5.0",
          "state": {
            "_model_module": "@jupyter-widgets/controls",
            "_model_module_version": "1.5.0",
            "_model_name": "ProgressStyleModel",
            "_view_count": null,
            "_view_module": "@jupyter-widgets/base",
            "_view_module_version": "1.2.0",
            "_view_name": "StyleView",
            "bar_color": null,
            "description_width": ""
          }
        },
        "6e40625634bc4d03be33eaa7d7976197": {
          "model_module": "@jupyter-widgets/base",
          "model_name": "LayoutModel",
          "model_module_version": "1.2.0",
          "state": {
            "_model_module": "@jupyter-widgets/base",
            "_model_module_version": "1.2.0",
            "_model_name": "LayoutModel",
            "_view_count": null,
            "_view_module": "@jupyter-widgets/base",
            "_view_module_version": "1.2.0",
            "_view_name": "LayoutView",
            "align_content": null,
            "align_items": null,
            "align_self": null,
            "border": null,
            "bottom": null,
            "display": null,
            "flex": null,
            "flex_flow": null,
            "grid_area": null,
            "grid_auto_columns": null,
            "grid_auto_flow": null,
            "grid_auto_rows": null,
            "grid_column": null,
            "grid_gap": null,
            "grid_row": null,
            "grid_template_areas": null,
            "grid_template_columns": null,
            "grid_template_rows": null,
            "height": null,
            "justify_content": null,
            "justify_items": null,
            "left": null,
            "margin": null,
            "max_height": null,
            "max_width": null,
            "min_height": null,
            "min_width": null,
            "object_fit": null,
            "object_position": null,
            "order": null,
            "overflow": null,
            "overflow_x": null,
            "overflow_y": null,
            "padding": null,
            "right": null,
            "top": null,
            "visibility": null,
            "width": null
          }
        },
        "da23199ca2c54fa588ae15012efc057e": {
          "model_module": "@jupyter-widgets/controls",
          "model_name": "DescriptionStyleModel",
          "model_module_version": "1.5.0",
          "state": {
            "_model_module": "@jupyter-widgets/controls",
            "_model_module_version": "1.5.0",
            "_model_name": "DescriptionStyleModel",
            "_view_count": null,
            "_view_module": "@jupyter-widgets/base",
            "_view_module_version": "1.2.0",
            "_view_name": "StyleView",
            "description_width": ""
          }
        },
        "4909741e1373499a9e292298513a8622": {
          "model_module": "@jupyter-widgets/controls",
          "model_name": "HBoxModel",
          "model_module_version": "1.5.0",
          "state": {
            "_dom_classes": [],
            "_model_module": "@jupyter-widgets/controls",
            "_model_module_version": "1.5.0",
            "_model_name": "HBoxModel",
            "_view_count": null,
            "_view_module": "@jupyter-widgets/controls",
            "_view_module_version": "1.5.0",
            "_view_name": "HBoxView",
            "box_style": "",
            "children": [
              "IPY_MODEL_36d504ae38444547bd9048893b46fdf9",
              "IPY_MODEL_21c0d41af05a4f818d15ac88f88db226",
              "IPY_MODEL_2bb0e40d74204d20a1e83e55668c1ce8"
            ],
            "layout": "IPY_MODEL_44f1b0b3eb044ab3b97725493dd2add0"
          }
        },
        "36d504ae38444547bd9048893b46fdf9": {
          "model_module": "@jupyter-widgets/controls",
          "model_name": "HTMLModel",
          "model_module_version": "1.5.0",
          "state": {
            "_dom_classes": [],
            "_model_module": "@jupyter-widgets/controls",
            "_model_module_version": "1.5.0",
            "_model_name": "HTMLModel",
            "_view_count": null,
            "_view_module": "@jupyter-widgets/controls",
            "_view_module_version": "1.5.0",
            "_view_name": "HTMLView",
            "description": "",
            "description_tooltip": null,
            "layout": "IPY_MODEL_12a8f1e3eb9f4ed0a29ca3a83a2c15b8",
            "placeholder": "​",
            "style": "IPY_MODEL_d3d3c77df54b42929d24b2208602bfaa",
            "value": "vocab.txt: 100%"
          }
        },
        "21c0d41af05a4f818d15ac88f88db226": {
          "model_module": "@jupyter-widgets/controls",
          "model_name": "FloatProgressModel",
          "model_module_version": "1.5.0",
          "state": {
            "_dom_classes": [],
            "_model_module": "@jupyter-widgets/controls",
            "_model_module_version": "1.5.0",
            "_model_name": "FloatProgressModel",
            "_view_count": null,
            "_view_module": "@jupyter-widgets/controls",
            "_view_module_version": "1.5.0",
            "_view_name": "ProgressView",
            "bar_style": "success",
            "description": "",
            "description_tooltip": null,
            "layout": "IPY_MODEL_04f0ac3704314010a25adaedd9ae4921",
            "max": 1404983,
            "min": 0,
            "orientation": "horizontal",
            "style": "IPY_MODEL_ee8da58c7d0149e1a44a112438623ea5",
            "value": 1404983
          }
        },
        "2bb0e40d74204d20a1e83e55668c1ce8": {
          "model_module": "@jupyter-widgets/controls",
          "model_name": "HTMLModel",
          "model_module_version": "1.5.0",
          "state": {
            "_dom_classes": [],
            "_model_module": "@jupyter-widgets/controls",
            "_model_module_version": "1.5.0",
            "_model_name": "HTMLModel",
            "_view_count": null,
            "_view_module": "@jupyter-widgets/controls",
            "_view_module_version": "1.5.0",
            "_view_name": "HTMLView",
            "description": "",
            "description_tooltip": null,
            "layout": "IPY_MODEL_b2e9265f6657407eb9b85fcb842e73f4",
            "placeholder": "​",
            "style": "IPY_MODEL_466605aab8c2458abb765e46be02626c",
            "value": " 1.40M/1.40M [00:00&lt;00:00, 9.56MB/s]"
          }
        },
        "44f1b0b3eb044ab3b97725493dd2add0": {
          "model_module": "@jupyter-widgets/base",
          "model_name": "LayoutModel",
          "model_module_version": "1.2.0",
          "state": {
            "_model_module": "@jupyter-widgets/base",
            "_model_module_version": "1.2.0",
            "_model_name": "LayoutModel",
            "_view_count": null,
            "_view_module": "@jupyter-widgets/base",
            "_view_module_version": "1.2.0",
            "_view_name": "LayoutView",
            "align_content": null,
            "align_items": null,
            "align_self": null,
            "border": null,
            "bottom": null,
            "display": null,
            "flex": null,
            "flex_flow": null,
            "grid_area": null,
            "grid_auto_columns": null,
            "grid_auto_flow": null,
            "grid_auto_rows": null,
            "grid_column": null,
            "grid_gap": null,
            "grid_row": null,
            "grid_template_areas": null,
            "grid_template_columns": null,
            "grid_template_rows": null,
            "height": null,
            "justify_content": null,
            "justify_items": null,
            "left": null,
            "margin": null,
            "max_height": null,
            "max_width": null,
            "min_height": null,
            "min_width": null,
            "object_fit": null,
            "object_position": null,
            "order": null,
            "overflow": null,
            "overflow_x": null,
            "overflow_y": null,
            "padding": null,
            "right": null,
            "top": null,
            "visibility": null,
            "width": null
          }
        },
        "12a8f1e3eb9f4ed0a29ca3a83a2c15b8": {
          "model_module": "@jupyter-widgets/base",
          "model_name": "LayoutModel",
          "model_module_version": "1.2.0",
          "state": {
            "_model_module": "@jupyter-widgets/base",
            "_model_module_version": "1.2.0",
            "_model_name": "LayoutModel",
            "_view_count": null,
            "_view_module": "@jupyter-widgets/base",
            "_view_module_version": "1.2.0",
            "_view_name": "LayoutView",
            "align_content": null,
            "align_items": null,
            "align_self": null,
            "border": null,
            "bottom": null,
            "display": null,
            "flex": null,
            "flex_flow": null,
            "grid_area": null,
            "grid_auto_columns": null,
            "grid_auto_flow": null,
            "grid_auto_rows": null,
            "grid_column": null,
            "grid_gap": null,
            "grid_row": null,
            "grid_template_areas": null,
            "grid_template_columns": null,
            "grid_template_rows": null,
            "height": null,
            "justify_content": null,
            "justify_items": null,
            "left": null,
            "margin": null,
            "max_height": null,
            "max_width": null,
            "min_height": null,
            "min_width": null,
            "object_fit": null,
            "object_position": null,
            "order": null,
            "overflow": null,
            "overflow_x": null,
            "overflow_y": null,
            "padding": null,
            "right": null,
            "top": null,
            "visibility": null,
            "width": null
          }
        },
        "d3d3c77df54b42929d24b2208602bfaa": {
          "model_module": "@jupyter-widgets/controls",
          "model_name": "DescriptionStyleModel",
          "model_module_version": "1.5.0",
          "state": {
            "_model_module": "@jupyter-widgets/controls",
            "_model_module_version": "1.5.0",
            "_model_name": "DescriptionStyleModel",
            "_view_count": null,
            "_view_module": "@jupyter-widgets/base",
            "_view_module_version": "1.2.0",
            "_view_name": "StyleView",
            "description_width": ""
          }
        },
        "04f0ac3704314010a25adaedd9ae4921": {
          "model_module": "@jupyter-widgets/base",
          "model_name": "LayoutModel",
          "model_module_version": "1.2.0",
          "state": {
            "_model_module": "@jupyter-widgets/base",
            "_model_module_version": "1.2.0",
            "_model_name": "LayoutModel",
            "_view_count": null,
            "_view_module": "@jupyter-widgets/base",
            "_view_module_version": "1.2.0",
            "_view_name": "LayoutView",
            "align_content": null,
            "align_items": null,
            "align_self": null,
            "border": null,
            "bottom": null,
            "display": null,
            "flex": null,
            "flex_flow": null,
            "grid_area": null,
            "grid_auto_columns": null,
            "grid_auto_flow": null,
            "grid_auto_rows": null,
            "grid_column": null,
            "grid_gap": null,
            "grid_row": null,
            "grid_template_areas": null,
            "grid_template_columns": null,
            "grid_template_rows": null,
            "height": null,
            "justify_content": null,
            "justify_items": null,
            "left": null,
            "margin": null,
            "max_height": null,
            "max_width": null,
            "min_height": null,
            "min_width": null,
            "object_fit": null,
            "object_position": null,
            "order": null,
            "overflow": null,
            "overflow_x": null,
            "overflow_y": null,
            "padding": null,
            "right": null,
            "top": null,
            "visibility": null,
            "width": null
          }
        },
        "ee8da58c7d0149e1a44a112438623ea5": {
          "model_module": "@jupyter-widgets/controls",
          "model_name": "ProgressStyleModel",
          "model_module_version": "1.5.0",
          "state": {
            "_model_module": "@jupyter-widgets/controls",
            "_model_module_version": "1.5.0",
            "_model_name": "ProgressStyleModel",
            "_view_count": null,
            "_view_module": "@jupyter-widgets/base",
            "_view_module_version": "1.2.0",
            "_view_name": "StyleView",
            "bar_color": null,
            "description_width": ""
          }
        },
        "b2e9265f6657407eb9b85fcb842e73f4": {
          "model_module": "@jupyter-widgets/base",
          "model_name": "LayoutModel",
          "model_module_version": "1.2.0",
          "state": {
            "_model_module": "@jupyter-widgets/base",
            "_model_module_version": "1.2.0",
            "_model_name": "LayoutModel",
            "_view_count": null,
            "_view_module": "@jupyter-widgets/base",
            "_view_module_version": "1.2.0",
            "_view_name": "LayoutView",
            "align_content": null,
            "align_items": null,
            "align_self": null,
            "border": null,
            "bottom": null,
            "display": null,
            "flex": null,
            "flex_flow": null,
            "grid_area": null,
            "grid_auto_columns": null,
            "grid_auto_flow": null,
            "grid_auto_rows": null,
            "grid_column": null,
            "grid_gap": null,
            "grid_row": null,
            "grid_template_areas": null,
            "grid_template_columns": null,
            "grid_template_rows": null,
            "height": null,
            "justify_content": null,
            "justify_items": null,
            "left": null,
            "margin": null,
            "max_height": null,
            "max_width": null,
            "min_height": null,
            "min_width": null,
            "object_fit": null,
            "object_position": null,
            "order": null,
            "overflow": null,
            "overflow_x": null,
            "overflow_y": null,
            "padding": null,
            "right": null,
            "top": null,
            "visibility": null,
            "width": null
          }
        },
        "466605aab8c2458abb765e46be02626c": {
          "model_module": "@jupyter-widgets/controls",
          "model_name": "DescriptionStyleModel",
          "model_module_version": "1.5.0",
          "state": {
            "_model_module": "@jupyter-widgets/controls",
            "_model_module_version": "1.5.0",
            "_model_name": "DescriptionStyleModel",
            "_view_count": null,
            "_view_module": "@jupyter-widgets/base",
            "_view_module_version": "1.2.0",
            "_view_name": "StyleView",
            "description_width": ""
          }
        },
        "4417fd8c2f034749ade4b058df945a1b": {
          "model_module": "@jupyter-widgets/controls",
          "model_name": "HBoxModel",
          "model_module_version": "1.5.0",
          "state": {
            "_dom_classes": [],
            "_model_module": "@jupyter-widgets/controls",
            "_model_module_version": "1.5.0",
            "_model_name": "HBoxModel",
            "_view_count": null,
            "_view_module": "@jupyter-widgets/controls",
            "_view_module_version": "1.5.0",
            "_view_name": "HBoxView",
            "box_style": "",
            "children": [
              "IPY_MODEL_fc344fc1d85b429fb30a5b93830b4ab2",
              "IPY_MODEL_512b2618aa2d4dbfac8998c0ac69085d",
              "IPY_MODEL_89bfbdc0248a479f83674db2ef460610"
            ],
            "layout": "IPY_MODEL_cddf72eec39e4f42b5e3d15a9c7e19e6"
          }
        },
        "fc344fc1d85b429fb30a5b93830b4ab2": {
          "model_module": "@jupyter-widgets/controls",
          "model_name": "HTMLModel",
          "model_module_version": "1.5.0",
          "state": {
            "_dom_classes": [],
            "_model_module": "@jupyter-widgets/controls",
            "_model_module_version": "1.5.0",
            "_model_name": "HTMLModel",
            "_view_count": null,
            "_view_module": "@jupyter-widgets/controls",
            "_view_module_version": "1.5.0",
            "_view_name": "HTMLView",
            "description": "",
            "description_tooltip": null,
            "layout": "IPY_MODEL_8617e335e58c4c598ca5ba2de58aa84a",
            "placeholder": "​",
            "style": "IPY_MODEL_280d42762e2742258fcd8bf1f7fe551b",
            "value": "special_tokens_map.json: 100%"
          }
        },
        "512b2618aa2d4dbfac8998c0ac69085d": {
          "model_module": "@jupyter-widgets/controls",
          "model_name": "FloatProgressModel",
          "model_module_version": "1.5.0",
          "state": {
            "_dom_classes": [],
            "_model_module": "@jupyter-widgets/controls",
            "_model_module_version": "1.5.0",
            "_model_name": "FloatProgressModel",
            "_view_count": null,
            "_view_module": "@jupyter-widgets/controls",
            "_view_module_version": "1.5.0",
            "_view_name": "ProgressView",
            "bar_style": "success",
            "description": "",
            "description_tooltip": null,
            "layout": "IPY_MODEL_05c50408187a467692ed1411a6ebd55a",
            "max": 112,
            "min": 0,
            "orientation": "horizontal",
            "style": "IPY_MODEL_3e7d67f2871c4461800e836e4b96dde4",
            "value": 112
          }
        },
        "89bfbdc0248a479f83674db2ef460610": {
          "model_module": "@jupyter-widgets/controls",
          "model_name": "HTMLModel",
          "model_module_version": "1.5.0",
          "state": {
            "_dom_classes": [],
            "_model_module": "@jupyter-widgets/controls",
            "_model_module_version": "1.5.0",
            "_model_name": "HTMLModel",
            "_view_count": null,
            "_view_module": "@jupyter-widgets/controls",
            "_view_module_version": "1.5.0",
            "_view_name": "HTMLView",
            "description": "",
            "description_tooltip": null,
            "layout": "IPY_MODEL_6e728193673a47e282e121f9dd8ab43a",
            "placeholder": "​",
            "style": "IPY_MODEL_97e42fdbbd52477e9a7b17ff54763702",
            "value": " 112/112 [00:00&lt;00:00, 3.73kB/s]"
          }
        },
        "cddf72eec39e4f42b5e3d15a9c7e19e6": {
          "model_module": "@jupyter-widgets/base",
          "model_name": "LayoutModel",
          "model_module_version": "1.2.0",
          "state": {
            "_model_module": "@jupyter-widgets/base",
            "_model_module_version": "1.2.0",
            "_model_name": "LayoutModel",
            "_view_count": null,
            "_view_module": "@jupyter-widgets/base",
            "_view_module_version": "1.2.0",
            "_view_name": "LayoutView",
            "align_content": null,
            "align_items": null,
            "align_self": null,
            "border": null,
            "bottom": null,
            "display": null,
            "flex": null,
            "flex_flow": null,
            "grid_area": null,
            "grid_auto_columns": null,
            "grid_auto_flow": null,
            "grid_auto_rows": null,
            "grid_column": null,
            "grid_gap": null,
            "grid_row": null,
            "grid_template_areas": null,
            "grid_template_columns": null,
            "grid_template_rows": null,
            "height": null,
            "justify_content": null,
            "justify_items": null,
            "left": null,
            "margin": null,
            "max_height": null,
            "max_width": null,
            "min_height": null,
            "min_width": null,
            "object_fit": null,
            "object_position": null,
            "order": null,
            "overflow": null,
            "overflow_x": null,
            "overflow_y": null,
            "padding": null,
            "right": null,
            "top": null,
            "visibility": null,
            "width": null
          }
        },
        "8617e335e58c4c598ca5ba2de58aa84a": {
          "model_module": "@jupyter-widgets/base",
          "model_name": "LayoutModel",
          "model_module_version": "1.2.0",
          "state": {
            "_model_module": "@jupyter-widgets/base",
            "_model_module_version": "1.2.0",
            "_model_name": "LayoutModel",
            "_view_count": null,
            "_view_module": "@jupyter-widgets/base",
            "_view_module_version": "1.2.0",
            "_view_name": "LayoutView",
            "align_content": null,
            "align_items": null,
            "align_self": null,
            "border": null,
            "bottom": null,
            "display": null,
            "flex": null,
            "flex_flow": null,
            "grid_area": null,
            "grid_auto_columns": null,
            "grid_auto_flow": null,
            "grid_auto_rows": null,
            "grid_column": null,
            "grid_gap": null,
            "grid_row": null,
            "grid_template_areas": null,
            "grid_template_columns": null,
            "grid_template_rows": null,
            "height": null,
            "justify_content": null,
            "justify_items": null,
            "left": null,
            "margin": null,
            "max_height": null,
            "max_width": null,
            "min_height": null,
            "min_width": null,
            "object_fit": null,
            "object_position": null,
            "order": null,
            "overflow": null,
            "overflow_x": null,
            "overflow_y": null,
            "padding": null,
            "right": null,
            "top": null,
            "visibility": null,
            "width": null
          }
        },
        "280d42762e2742258fcd8bf1f7fe551b": {
          "model_module": "@jupyter-widgets/controls",
          "model_name": "DescriptionStyleModel",
          "model_module_version": "1.5.0",
          "state": {
            "_model_module": "@jupyter-widgets/controls",
            "_model_module_version": "1.5.0",
            "_model_name": "DescriptionStyleModel",
            "_view_count": null,
            "_view_module": "@jupyter-widgets/base",
            "_view_module_version": "1.2.0",
            "_view_name": "StyleView",
            "description_width": ""
          }
        },
        "05c50408187a467692ed1411a6ebd55a": {
          "model_module": "@jupyter-widgets/base",
          "model_name": "LayoutModel",
          "model_module_version": "1.2.0",
          "state": {
            "_model_module": "@jupyter-widgets/base",
            "_model_module_version": "1.2.0",
            "_model_name": "LayoutModel",
            "_view_count": null,
            "_view_module": "@jupyter-widgets/base",
            "_view_module_version": "1.2.0",
            "_view_name": "LayoutView",
            "align_content": null,
            "align_items": null,
            "align_self": null,
            "border": null,
            "bottom": null,
            "display": null,
            "flex": null,
            "flex_flow": null,
            "grid_area": null,
            "grid_auto_columns": null,
            "grid_auto_flow": null,
            "grid_auto_rows": null,
            "grid_column": null,
            "grid_gap": null,
            "grid_row": null,
            "grid_template_areas": null,
            "grid_template_columns": null,
            "grid_template_rows": null,
            "height": null,
            "justify_content": null,
            "justify_items": null,
            "left": null,
            "margin": null,
            "max_height": null,
            "max_width": null,
            "min_height": null,
            "min_width": null,
            "object_fit": null,
            "object_position": null,
            "order": null,
            "overflow": null,
            "overflow_x": null,
            "overflow_y": null,
            "padding": null,
            "right": null,
            "top": null,
            "visibility": null,
            "width": null
          }
        },
        "3e7d67f2871c4461800e836e4b96dde4": {
          "model_module": "@jupyter-widgets/controls",
          "model_name": "ProgressStyleModel",
          "model_module_version": "1.5.0",
          "state": {
            "_model_module": "@jupyter-widgets/controls",
            "_model_module_version": "1.5.0",
            "_model_name": "ProgressStyleModel",
            "_view_count": null,
            "_view_module": "@jupyter-widgets/base",
            "_view_module_version": "1.2.0",
            "_view_name": "StyleView",
            "bar_color": null,
            "description_width": ""
          }
        },
        "6e728193673a47e282e121f9dd8ab43a": {
          "model_module": "@jupyter-widgets/base",
          "model_name": "LayoutModel",
          "model_module_version": "1.2.0",
          "state": {
            "_model_module": "@jupyter-widgets/base",
            "_model_module_version": "1.2.0",
            "_model_name": "LayoutModel",
            "_view_count": null,
            "_view_module": "@jupyter-widgets/base",
            "_view_module_version": "1.2.0",
            "_view_name": "LayoutView",
            "align_content": null,
            "align_items": null,
            "align_self": null,
            "border": null,
            "bottom": null,
            "display": null,
            "flex": null,
            "flex_flow": null,
            "grid_area": null,
            "grid_auto_columns": null,
            "grid_auto_flow": null,
            "grid_auto_rows": null,
            "grid_column": null,
            "grid_gap": null,
            "grid_row": null,
            "grid_template_areas": null,
            "grid_template_columns": null,
            "grid_template_rows": null,
            "height": null,
            "justify_content": null,
            "justify_items": null,
            "left": null,
            "margin": null,
            "max_height": null,
            "max_width": null,
            "min_height": null,
            "min_width": null,
            "object_fit": null,
            "object_position": null,
            "order": null,
            "overflow": null,
            "overflow_x": null,
            "overflow_y": null,
            "padding": null,
            "right": null,
            "top": null,
            "visibility": null,
            "width": null
          }
        },
        "97e42fdbbd52477e9a7b17ff54763702": {
          "model_module": "@jupyter-widgets/controls",
          "model_name": "DescriptionStyleModel",
          "model_module_version": "1.5.0",
          "state": {
            "_model_module": "@jupyter-widgets/controls",
            "_model_module_version": "1.5.0",
            "_model_name": "DescriptionStyleModel",
            "_view_count": null,
            "_view_module": "@jupyter-widgets/base",
            "_view_module_version": "1.2.0",
            "_view_name": "StyleView",
            "description_width": ""
          }
        }
      }
    }
  },
  "cells": [
    {
      "cell_type": "markdown",
      "source": [
        "# Домашнее задание 9\n",
        "\n",
        "Возьмите готовую модель из https://huggingface.co/models для классификации сентимента текста.\n",
        "\n",
        "Сделайте предсказания на всем df_val. Посчитайте метрику качества.\n",
        "\n",
        "Дообучите эту модель на df_train. Посчитайте метрику качества на df_val."
      ],
      "metadata": {
        "id": "QUl6HVRANEjO"
      }
    },
    {
      "cell_type": "code",
      "execution_count": 1,
      "metadata": {
        "colab": {
          "base_uri": "https://localhost:8080/"
        },
        "id": "lMgee7mIMUCs",
        "outputId": "8de88de5-7846-469b-f743-de2a79041f6f"
      },
      "outputs": [
        {
          "output_type": "stream",
          "name": "stdout",
          "text": [
            "Requirement already satisfied: transformers in /usr/local/lib/python3.10/dist-packages (4.35.2)\n",
            "Requirement already satisfied: filelock in /usr/local/lib/python3.10/dist-packages (from transformers) (3.13.1)\n",
            "Requirement already satisfied: huggingface-hub<1.0,>=0.16.4 in /usr/local/lib/python3.10/dist-packages (from transformers) (0.20.2)\n",
            "Requirement already satisfied: numpy>=1.17 in /usr/local/lib/python3.10/dist-packages (from transformers) (1.23.5)\n",
            "Requirement already satisfied: packaging>=20.0 in /usr/local/lib/python3.10/dist-packages (from transformers) (23.2)\n",
            "Requirement already satisfied: pyyaml>=5.1 in /usr/local/lib/python3.10/dist-packages (from transformers) (6.0.1)\n",
            "Requirement already satisfied: regex!=2019.12.17 in /usr/local/lib/python3.10/dist-packages (from transformers) (2023.6.3)\n",
            "Requirement already satisfied: requests in /usr/local/lib/python3.10/dist-packages (from transformers) (2.31.0)\n",
            "Requirement already satisfied: tokenizers<0.19,>=0.14 in /usr/local/lib/python3.10/dist-packages (from transformers) (0.15.0)\n",
            "Requirement already satisfied: safetensors>=0.3.1 in /usr/local/lib/python3.10/dist-packages (from transformers) (0.4.1)\n",
            "Requirement already satisfied: tqdm>=4.27 in /usr/local/lib/python3.10/dist-packages (from transformers) (4.66.1)\n",
            "Requirement already satisfied: fsspec>=2023.5.0 in /usr/local/lib/python3.10/dist-packages (from huggingface-hub<1.0,>=0.16.4->transformers) (2023.6.0)\n",
            "Requirement already satisfied: typing-extensions>=3.7.4.3 in /usr/local/lib/python3.10/dist-packages (from huggingface-hub<1.0,>=0.16.4->transformers) (4.5.0)\n",
            "Requirement already satisfied: charset-normalizer<4,>=2 in /usr/local/lib/python3.10/dist-packages (from requests->transformers) (3.3.2)\n",
            "Requirement already satisfied: idna<4,>=2.5 in /usr/local/lib/python3.10/dist-packages (from requests->transformers) (3.6)\n",
            "Requirement already satisfied: urllib3<3,>=1.21.1 in /usr/local/lib/python3.10/dist-packages (from requests->transformers) (2.0.7)\n",
            "Requirement already satisfied: certifi>=2017.4.17 in /usr/local/lib/python3.10/dist-packages (from requests->transformers) (2023.11.17)\n"
          ]
        }
      ],
      "source": [
        "!pip install transformers"
      ]
    },
    {
      "cell_type": "markdown",
      "source": [
        "**Импорты**"
      ],
      "metadata": {
        "id": "HCiJL6c6QMS5"
      }
    },
    {
      "cell_type": "code",
      "source": [
        "import numpy as np\n",
        "import torch\n",
        "import torch.nn as nn\n",
        "import torch.nn.functional as F\n",
        "from torch.optim import Adam\n",
        "from tqdm import tqdm\n",
        "from collections import Counter\n",
        "import matplotlib.pyplot as plt\n",
        "import pandas as pd\n",
        "import transformers\n",
        "from transformers import pipeline\n",
        "from transformers import BertTokenizer, BertForSequenceClassification"
      ],
      "metadata": {
        "id": "HUbcFvjeN3LI"
      },
      "execution_count": 4,
      "outputs": []
    },
    {
      "cell_type": "markdown",
      "source": [
        "Загрузка данныех"
      ],
      "metadata": {
        "id": "Qg_SN6-nQfR3"
      }
    },
    {
      "cell_type": "code",
      "source": [
        "!wget 'https://drive.google.com/uc?export=download&id=1Mev_EEput0LlBj8MDHIJkBtahlJ6J901' -O data.zip"
      ],
      "metadata": {
        "colab": {
          "base_uri": "https://localhost:8080/"
        },
        "id": "z_DN395JPtNp",
        "outputId": "ddf7d004-fed8-43d8-9ba2-d2c1d0057562"
      },
      "execution_count": 5,
      "outputs": [
        {
          "output_type": "stream",
          "name": "stdout",
          "text": [
            "--2024-01-17 11:54:39--  https://drive.google.com/uc?export=download&id=1Mev_EEput0LlBj8MDHIJkBtahlJ6J901\n",
            "Resolving drive.google.com (drive.google.com)... 108.177.120.102, 108.177.120.101, 108.177.120.100, ...\n",
            "Connecting to drive.google.com (drive.google.com)|108.177.120.102|:443... connected.\n",
            "HTTP request sent, awaiting response... 303 See Other\n",
            "Location: https://drive.usercontent.google.com/download?id=1Mev_EEput0LlBj8MDHIJkBtahlJ6J901&export=download [following]\n",
            "--2024-01-17 11:54:39--  https://drive.usercontent.google.com/download?id=1Mev_EEput0LlBj8MDHIJkBtahlJ6J901&export=download\n",
            "Resolving drive.usercontent.google.com (drive.usercontent.google.com)... 209.85.145.132, 2607:f8b0:4001:c1e::84\n",
            "Connecting to drive.usercontent.google.com (drive.usercontent.google.com)|209.85.145.132|:443... connected.\n",
            "HTTP request sent, awaiting response... 200 OK\n",
            "Length: 10733963 (10M) [application/octet-stream]\n",
            "Saving to: ‘data.zip’\n",
            "\n",
            "data.zip            100%[===================>]  10.24M  40.5MB/s    in 0.3s    \n",
            "\n",
            "2024-01-17 11:54:43 (40.5 MB/s) - ‘data.zip’ saved [10733963/10733963]\n",
            "\n"
          ]
        }
      ]
    },
    {
      "cell_type": "code",
      "source": [
        "!unzip data.zip"
      ],
      "metadata": {
        "colab": {
          "base_uri": "https://localhost:8080/"
        },
        "id": "MUOhkYpkPtVt",
        "outputId": "cfb230a1-f219-4cb3-c872-9fb6aae1c9ca"
      },
      "execution_count": 6,
      "outputs": [
        {
          "output_type": "stream",
          "name": "stdout",
          "text": [
            "Archive:  data.zip\n",
            "  inflating: train.csv               \n",
            "  inflating: val.csv                 \n"
          ]
        }
      ]
    },
    {
      "cell_type": "code",
      "source": [
        "df_train = pd.read_csv(\"train.csv\")\n",
        "df_val = pd.read_csv(\"val.csv\")\n",
        "\n",
        "df_train.shape, df_val.shape"
      ],
      "metadata": {
        "colab": {
          "base_uri": "https://localhost:8080/"
        },
        "id": "hAYFvUmDPtYr",
        "outputId": "d85bf4a5-4313-4c96-ee4c-2beaa9f79a91"
      },
      "execution_count": 7,
      "outputs": [
        {
          "output_type": "execute_result",
          "data": {
            "text/plain": [
              "((181467, 3), (22683, 3))"
            ]
          },
          "metadata": {},
          "execution_count": 7
        }
      ]
    },
    {
      "cell_type": "code",
      "source": [
        "df_train.head()"
      ],
      "metadata": {
        "colab": {
          "base_uri": "https://localhost:8080/",
          "height": 206
        },
        "id": "LuFedJdoPtbS",
        "outputId": "3a9d3fce-d2e8-4700-cb3b-ed4db450e581"
      },
      "execution_count": 8,
      "outputs": [
        {
          "output_type": "execute_result",
          "data": {
            "text/plain": [
              "   id                                               text  class\n",
              "0   0  @alisachachka не уезжаааааааай. :(❤ я тоже не ...      0\n",
              "1   1  RT @GalyginVadim: Ребята и девчата!\\nВсе в кин...      1\n",
              "2   2  RT @ARTEM_KLYUSHIN: Кто ненавидит пробки ретви...      0\n",
              "3   3  RT @epupybobv: Хочется котлету по-киевски. Зап...      1\n",
              "4   4  @KarineKurganova @Yess__Boss босапопа есбоса н...      1"
            ],
            "text/html": [
              "\n",
              "  <div id=\"df-a2f578c7-42c3-4bfd-9c12-90b39b5d0a07\" class=\"colab-df-container\">\n",
              "    <div>\n",
              "<style scoped>\n",
              "    .dataframe tbody tr th:only-of-type {\n",
              "        vertical-align: middle;\n",
              "    }\n",
              "\n",
              "    .dataframe tbody tr th {\n",
              "        vertical-align: top;\n",
              "    }\n",
              "\n",
              "    .dataframe thead th {\n",
              "        text-align: right;\n",
              "    }\n",
              "</style>\n",
              "<table border=\"1\" class=\"dataframe\">\n",
              "  <thead>\n",
              "    <tr style=\"text-align: right;\">\n",
              "      <th></th>\n",
              "      <th>id</th>\n",
              "      <th>text</th>\n",
              "      <th>class</th>\n",
              "    </tr>\n",
              "  </thead>\n",
              "  <tbody>\n",
              "    <tr>\n",
              "      <th>0</th>\n",
              "      <td>0</td>\n",
              "      <td>@alisachachka не уезжаааааааай. :(❤ я тоже не ...</td>\n",
              "      <td>0</td>\n",
              "    </tr>\n",
              "    <tr>\n",
              "      <th>1</th>\n",
              "      <td>1</td>\n",
              "      <td>RT @GalyginVadim: Ребята и девчата!\\nВсе в кин...</td>\n",
              "      <td>1</td>\n",
              "    </tr>\n",
              "    <tr>\n",
              "      <th>2</th>\n",
              "      <td>2</td>\n",
              "      <td>RT @ARTEM_KLYUSHIN: Кто ненавидит пробки ретви...</td>\n",
              "      <td>0</td>\n",
              "    </tr>\n",
              "    <tr>\n",
              "      <th>3</th>\n",
              "      <td>3</td>\n",
              "      <td>RT @epupybobv: Хочется котлету по-киевски. Зап...</td>\n",
              "      <td>1</td>\n",
              "    </tr>\n",
              "    <tr>\n",
              "      <th>4</th>\n",
              "      <td>4</td>\n",
              "      <td>@KarineKurganova @Yess__Boss босапопа есбоса н...</td>\n",
              "      <td>1</td>\n",
              "    </tr>\n",
              "  </tbody>\n",
              "</table>\n",
              "</div>\n",
              "    <div class=\"colab-df-buttons\">\n",
              "\n",
              "  <div class=\"colab-df-container\">\n",
              "    <button class=\"colab-df-convert\" onclick=\"convertToInteractive('df-a2f578c7-42c3-4bfd-9c12-90b39b5d0a07')\"\n",
              "            title=\"Convert this dataframe to an interactive table.\"\n",
              "            style=\"display:none;\">\n",
              "\n",
              "  <svg xmlns=\"http://www.w3.org/2000/svg\" height=\"24px\" viewBox=\"0 -960 960 960\">\n",
              "    <path d=\"M120-120v-720h720v720H120Zm60-500h600v-160H180v160Zm220 220h160v-160H400v160Zm0 220h160v-160H400v160ZM180-400h160v-160H180v160Zm440 0h160v-160H620v160ZM180-180h160v-160H180v160Zm440 0h160v-160H620v160Z\"/>\n",
              "  </svg>\n",
              "    </button>\n",
              "\n",
              "  <style>\n",
              "    .colab-df-container {\n",
              "      display:flex;\n",
              "      gap: 12px;\n",
              "    }\n",
              "\n",
              "    .colab-df-convert {\n",
              "      background-color: #E8F0FE;\n",
              "      border: none;\n",
              "      border-radius: 50%;\n",
              "      cursor: pointer;\n",
              "      display: none;\n",
              "      fill: #1967D2;\n",
              "      height: 32px;\n",
              "      padding: 0 0 0 0;\n",
              "      width: 32px;\n",
              "    }\n",
              "\n",
              "    .colab-df-convert:hover {\n",
              "      background-color: #E2EBFA;\n",
              "      box-shadow: 0px 1px 2px rgba(60, 64, 67, 0.3), 0px 1px 3px 1px rgba(60, 64, 67, 0.15);\n",
              "      fill: #174EA6;\n",
              "    }\n",
              "\n",
              "    .colab-df-buttons div {\n",
              "      margin-bottom: 4px;\n",
              "    }\n",
              "\n",
              "    [theme=dark] .colab-df-convert {\n",
              "      background-color: #3B4455;\n",
              "      fill: #D2E3FC;\n",
              "    }\n",
              "\n",
              "    [theme=dark] .colab-df-convert:hover {\n",
              "      background-color: #434B5C;\n",
              "      box-shadow: 0px 1px 3px 1px rgba(0, 0, 0, 0.15);\n",
              "      filter: drop-shadow(0px 1px 2px rgba(0, 0, 0, 0.3));\n",
              "      fill: #FFFFFF;\n",
              "    }\n",
              "  </style>\n",
              "\n",
              "    <script>\n",
              "      const buttonEl =\n",
              "        document.querySelector('#df-a2f578c7-42c3-4bfd-9c12-90b39b5d0a07 button.colab-df-convert');\n",
              "      buttonEl.style.display =\n",
              "        google.colab.kernel.accessAllowed ? 'block' : 'none';\n",
              "\n",
              "      async function convertToInteractive(key) {\n",
              "        const element = document.querySelector('#df-a2f578c7-42c3-4bfd-9c12-90b39b5d0a07');\n",
              "        const dataTable =\n",
              "          await google.colab.kernel.invokeFunction('convertToInteractive',\n",
              "                                                    [key], {});\n",
              "        if (!dataTable) return;\n",
              "\n",
              "        const docLinkHtml = 'Like what you see? Visit the ' +\n",
              "          '<a target=\"_blank\" href=https://colab.research.google.com/notebooks/data_table.ipynb>data table notebook</a>'\n",
              "          + ' to learn more about interactive tables.';\n",
              "        element.innerHTML = '';\n",
              "        dataTable['output_type'] = 'display_data';\n",
              "        await google.colab.output.renderOutput(dataTable, element);\n",
              "        const docLink = document.createElement('div');\n",
              "        docLink.innerHTML = docLinkHtml;\n",
              "        element.appendChild(docLink);\n",
              "      }\n",
              "    </script>\n",
              "  </div>\n",
              "\n",
              "\n",
              "<div id=\"df-4bfdba95-a32f-4b2f-a269-d15fede3aa51\">\n",
              "  <button class=\"colab-df-quickchart\" onclick=\"quickchart('df-4bfdba95-a32f-4b2f-a269-d15fede3aa51')\"\n",
              "            title=\"Suggest charts\"\n",
              "            style=\"display:none;\">\n",
              "\n",
              "<svg xmlns=\"http://www.w3.org/2000/svg\" height=\"24px\"viewBox=\"0 0 24 24\"\n",
              "     width=\"24px\">\n",
              "    <g>\n",
              "        <path d=\"M19 3H5c-1.1 0-2 .9-2 2v14c0 1.1.9 2 2 2h14c1.1 0 2-.9 2-2V5c0-1.1-.9-2-2-2zM9 17H7v-7h2v7zm4 0h-2V7h2v10zm4 0h-2v-4h2v4z\"/>\n",
              "    </g>\n",
              "</svg>\n",
              "  </button>\n",
              "\n",
              "<style>\n",
              "  .colab-df-quickchart {\n",
              "      --bg-color: #E8F0FE;\n",
              "      --fill-color: #1967D2;\n",
              "      --hover-bg-color: #E2EBFA;\n",
              "      --hover-fill-color: #174EA6;\n",
              "      --disabled-fill-color: #AAA;\n",
              "      --disabled-bg-color: #DDD;\n",
              "  }\n",
              "\n",
              "  [theme=dark] .colab-df-quickchart {\n",
              "      --bg-color: #3B4455;\n",
              "      --fill-color: #D2E3FC;\n",
              "      --hover-bg-color: #434B5C;\n",
              "      --hover-fill-color: #FFFFFF;\n",
              "      --disabled-bg-color: #3B4455;\n",
              "      --disabled-fill-color: #666;\n",
              "  }\n",
              "\n",
              "  .colab-df-quickchart {\n",
              "    background-color: var(--bg-color);\n",
              "    border: none;\n",
              "    border-radius: 50%;\n",
              "    cursor: pointer;\n",
              "    display: none;\n",
              "    fill: var(--fill-color);\n",
              "    height: 32px;\n",
              "    padding: 0;\n",
              "    width: 32px;\n",
              "  }\n",
              "\n",
              "  .colab-df-quickchart:hover {\n",
              "    background-color: var(--hover-bg-color);\n",
              "    box-shadow: 0 1px 2px rgba(60, 64, 67, 0.3), 0 1px 3px 1px rgba(60, 64, 67, 0.15);\n",
              "    fill: var(--button-hover-fill-color);\n",
              "  }\n",
              "\n",
              "  .colab-df-quickchart-complete:disabled,\n",
              "  .colab-df-quickchart-complete:disabled:hover {\n",
              "    background-color: var(--disabled-bg-color);\n",
              "    fill: var(--disabled-fill-color);\n",
              "    box-shadow: none;\n",
              "  }\n",
              "\n",
              "  .colab-df-spinner {\n",
              "    border: 2px solid var(--fill-color);\n",
              "    border-color: transparent;\n",
              "    border-bottom-color: var(--fill-color);\n",
              "    animation:\n",
              "      spin 1s steps(1) infinite;\n",
              "  }\n",
              "\n",
              "  @keyframes spin {\n",
              "    0% {\n",
              "      border-color: transparent;\n",
              "      border-bottom-color: var(--fill-color);\n",
              "      border-left-color: var(--fill-color);\n",
              "    }\n",
              "    20% {\n",
              "      border-color: transparent;\n",
              "      border-left-color: var(--fill-color);\n",
              "      border-top-color: var(--fill-color);\n",
              "    }\n",
              "    30% {\n",
              "      border-color: transparent;\n",
              "      border-left-color: var(--fill-color);\n",
              "      border-top-color: var(--fill-color);\n",
              "      border-right-color: var(--fill-color);\n",
              "    }\n",
              "    40% {\n",
              "      border-color: transparent;\n",
              "      border-right-color: var(--fill-color);\n",
              "      border-top-color: var(--fill-color);\n",
              "    }\n",
              "    60% {\n",
              "      border-color: transparent;\n",
              "      border-right-color: var(--fill-color);\n",
              "    }\n",
              "    80% {\n",
              "      border-color: transparent;\n",
              "      border-right-color: var(--fill-color);\n",
              "      border-bottom-color: var(--fill-color);\n",
              "    }\n",
              "    90% {\n",
              "      border-color: transparent;\n",
              "      border-bottom-color: var(--fill-color);\n",
              "    }\n",
              "  }\n",
              "</style>\n",
              "\n",
              "  <script>\n",
              "    async function quickchart(key) {\n",
              "      const quickchartButtonEl =\n",
              "        document.querySelector('#' + key + ' button');\n",
              "      quickchartButtonEl.disabled = true;  // To prevent multiple clicks.\n",
              "      quickchartButtonEl.classList.add('colab-df-spinner');\n",
              "      try {\n",
              "        const charts = await google.colab.kernel.invokeFunction(\n",
              "            'suggestCharts', [key], {});\n",
              "      } catch (error) {\n",
              "        console.error('Error during call to suggestCharts:', error);\n",
              "      }\n",
              "      quickchartButtonEl.classList.remove('colab-df-spinner');\n",
              "      quickchartButtonEl.classList.add('colab-df-quickchart-complete');\n",
              "    }\n",
              "    (() => {\n",
              "      let quickchartButtonEl =\n",
              "        document.querySelector('#df-4bfdba95-a32f-4b2f-a269-d15fede3aa51 button');\n",
              "      quickchartButtonEl.style.display =\n",
              "        google.colab.kernel.accessAllowed ? 'block' : 'none';\n",
              "    })();\n",
              "  </script>\n",
              "</div>\n",
              "    </div>\n",
              "  </div>\n"
            ]
          },
          "metadata": {},
          "execution_count": 8
        }
      ]
    },
    {
      "cell_type": "markdown",
      "source": [
        "Загрузка готовой [модели](https://huggingface.co/s-nlp/russian_toxicity_classifier)"
      ],
      "metadata": {
        "id": "hhhNwkIgR_qF"
      }
    },
    {
      "cell_type": "markdown",
      "source": [
        "Краткое опписание модели:\n",
        "\n",
        "Классификатор на основе Берта (точно настроенный на основе разговорного Руберта ), обученный на слиянии набора данных о токсичных комментариях на русском языке , собранного с 2ch.hk, и набора данных о токсичных русских комментариях , собранного с ok.ru.\n",
        "\n",
        "Наборы данных были объединены, перетасованы и разделены на части для обучения, разработки и тестирования в пропорции 80-10-10. Метрики, полученные из тестового набора данных, следующие:\n",
        "\n",
        "![image.png](data:image/png;base64,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)\n"
      ],
      "metadata": {
        "id": "DgUpEItCSfAH"
      }
    },
    {
      "cell_type": "code",
      "source": [
        "model_bert = BertForSequenceClassification.from_pretrained('SkolkovoInstitute/russian_toxicity_classifier')\n",
        "print(model_bert)\n",
        "print(\"Parameters full train:\", sum([param.nelement() for param in model_bert.parameters()]))"
      ],
      "metadata": {
        "colab": {
          "base_uri": "https://localhost:8080/",
          "height": 984,
          "referenced_widgets": [
            "b83deff35a8d4effbc9c81f11b29300a",
            "5285ab78127147e488afbc7430227b7b",
            "82827b66592d472c94b2360e3382480f",
            "e44ce42e03da41428115a72960ca1744",
            "e7898369a0e94e12963c86c4739e7eae",
            "82fb5905e30241d09b9391b236a5512f",
            "a7674c48d3ec4984b591ce304f564a45",
            "68171f2578a64d4fb16c3d8c35f0ab6b",
            "f0ef4b78eb25468d8674297eb23b2e6b",
            "7e171911f4fd4e5a96d065ac2d37374d",
            "0aa3a2d6129a400a94b55fcfecfe353f",
            "18e4607b595f4e868345752e5e2509a1",
            "556de69c005249d187691a18615f86cc",
            "5d5f99d3d64c44d2b3b5c2690cd7f654",
            "46691214671c481489ed4df846cead88",
            "99b588a055df42c4aa77456bb7e7127b",
            "4a0b94aad0e345b891746265be6cf4a6",
            "b328d6b1a0d04dea9d571d17cad61731",
            "13aa1028b8ab46f7850cea7ea48540f9",
            "e7e76617a27d412288621d2263b7bcf0",
            "790acd014ae84632bcbae52bca5cee89",
            "a8d9b84f57954e0cbc85b41c5709487d"
          ]
        },
        "id": "vaIPwU8uPtdx",
        "outputId": "455aed25-3998-4e57-93f8-4e1104185856"
      },
      "execution_count": 9,
      "outputs": [
        {
          "output_type": "stream",
          "name": "stderr",
          "text": [
            "/usr/local/lib/python3.10/dist-packages/huggingface_hub/utils/_token.py:88: UserWarning: \n",
            "The secret `HF_TOKEN` does not exist in your Colab secrets.\n",
            "To authenticate with the Hugging Face Hub, create a token in your settings tab (https://huggingface.co/settings/tokens), set it as secret in your Google Colab and restart your session.\n",
            "You will be able to reuse this secret in all of your notebooks.\n",
            "Please note that authentication is recommended but still optional to access public models or datasets.\n",
            "  warnings.warn(\n"
          ]
        },
        {
          "output_type": "display_data",
          "data": {
            "text/plain": [
              "config.json:   0%|          | 0.00/1.04k [00:00<?, ?B/s]"
            ],
            "application/vnd.jupyter.widget-view+json": {
              "version_major": 2,
              "version_minor": 0,
              "model_id": "b83deff35a8d4effbc9c81f11b29300a"
            }
          },
          "metadata": {}
        },
        {
          "output_type": "display_data",
          "data": {
            "text/plain": [
              "model.safetensors:   0%|          | 0.00/711M [00:00<?, ?B/s]"
            ],
            "application/vnd.jupyter.widget-view+json": {
              "version_major": 2,
              "version_minor": 0,
              "model_id": "18e4607b595f4e868345752e5e2509a1"
            }
          },
          "metadata": {}
        },
        {
          "output_type": "stream",
          "name": "stdout",
          "text": [
            "BertForSequenceClassification(\n",
            "  (bert): BertModel(\n",
            "    (embeddings): BertEmbeddings(\n",
            "      (word_embeddings): Embedding(119547, 768, padding_idx=0)\n",
            "      (position_embeddings): Embedding(512, 768)\n",
            "      (token_type_embeddings): Embedding(2, 768)\n",
            "      (LayerNorm): LayerNorm((768,), eps=1e-12, elementwise_affine=True)\n",
            "      (dropout): Dropout(p=0.1, inplace=False)\n",
            "    )\n",
            "    (encoder): BertEncoder(\n",
            "      (layer): ModuleList(\n",
            "        (0-11): 12 x BertLayer(\n",
            "          (attention): BertAttention(\n",
            "            (self): BertSelfAttention(\n",
            "              (query): Linear(in_features=768, out_features=768, bias=True)\n",
            "              (key): Linear(in_features=768, out_features=768, bias=True)\n",
            "              (value): Linear(in_features=768, out_features=768, bias=True)\n",
            "              (dropout): Dropout(p=0.1, inplace=False)\n",
            "            )\n",
            "            (output): BertSelfOutput(\n",
            "              (dense): Linear(in_features=768, out_features=768, bias=True)\n",
            "              (LayerNorm): LayerNorm((768,), eps=1e-12, elementwise_affine=True)\n",
            "              (dropout): Dropout(p=0.1, inplace=False)\n",
            "            )\n",
            "          )\n",
            "          (intermediate): BertIntermediate(\n",
            "            (dense): Linear(in_features=768, out_features=3072, bias=True)\n",
            "            (intermediate_act_fn): GELUActivation()\n",
            "          )\n",
            "          (output): BertOutput(\n",
            "            (dense): Linear(in_features=3072, out_features=768, bias=True)\n",
            "            (LayerNorm): LayerNorm((768,), eps=1e-12, elementwise_affine=True)\n",
            "            (dropout): Dropout(p=0.1, inplace=False)\n",
            "          )\n",
            "        )\n",
            "      )\n",
            "    )\n",
            "    (pooler): BertPooler(\n",
            "      (dense): Linear(in_features=768, out_features=768, bias=True)\n",
            "      (activation): Tanh()\n",
            "    )\n",
            "  )\n",
            "  (dropout): Dropout(p=0.1, inplace=False)\n",
            "  (classifier): Linear(in_features=768, out_features=2, bias=True)\n",
            ")\n",
            "Parameters full train: 177854978\n"
          ]
        }
      ]
    },
    {
      "cell_type": "markdown",
      "source": [
        "**Пример классификации сентимента текста**"
      ],
      "metadata": {
        "id": "B8I0hEHdTg5f"
      }
    },
    {
      "cell_type": "code",
      "source": [
        "sentiment = pipeline(\"text-classification\", model='SkolkovoInstitute/russian_toxicity_classifier')\n",
        "sentiment(\"Этот ресторан отличный\")"
      ],
      "metadata": {
        "colab": {
          "base_uri": "https://localhost:8080/",
          "height": 130,
          "referenced_widgets": [
            "e82c6055f672446aa9bff6965b33387b",
            "337b2ce4bf594798b4484d350074c422",
            "190608f0403b440a85619ed4206cff59",
            "7663956ff1984647aa7efe538c4db1aa",
            "9217995df07547eda96369e4b0ced5f1",
            "799dbbbd735b4354ade3a8bc53353027",
            "5e8d945c9c854bbcabbfcfb18f951ab1",
            "90b9229c3b014119961dbb9933482add",
            "e44e42606bda43129be7f908e192cded",
            "6e40625634bc4d03be33eaa7d7976197",
            "da23199ca2c54fa588ae15012efc057e",
            "4909741e1373499a9e292298513a8622",
            "36d504ae38444547bd9048893b46fdf9",
            "21c0d41af05a4f818d15ac88f88db226",
            "2bb0e40d74204d20a1e83e55668c1ce8",
            "44f1b0b3eb044ab3b97725493dd2add0",
            "12a8f1e3eb9f4ed0a29ca3a83a2c15b8",
            "d3d3c77df54b42929d24b2208602bfaa",
            "04f0ac3704314010a25adaedd9ae4921",
            "ee8da58c7d0149e1a44a112438623ea5",
            "b2e9265f6657407eb9b85fcb842e73f4",
            "466605aab8c2458abb765e46be02626c",
            "4417fd8c2f034749ade4b058df945a1b",
            "fc344fc1d85b429fb30a5b93830b4ab2",
            "512b2618aa2d4dbfac8998c0ac69085d",
            "89bfbdc0248a479f83674db2ef460610",
            "cddf72eec39e4f42b5e3d15a9c7e19e6",
            "8617e335e58c4c598ca5ba2de58aa84a",
            "280d42762e2742258fcd8bf1f7fe551b",
            "05c50408187a467692ed1411a6ebd55a",
            "3e7d67f2871c4461800e836e4b96dde4",
            "6e728193673a47e282e121f9dd8ab43a",
            "97e42fdbbd52477e9a7b17ff54763702"
          ]
        },
        "id": "2Y4qshgcPtgc",
        "outputId": "5a5e52ed-0773-4dd5-ab49-e88e14b585aa"
      },
      "execution_count": 10,
      "outputs": [
        {
          "output_type": "display_data",
          "data": {
            "text/plain": [
              "tokenizer_config.json:   0%|          | 0.00/585 [00:00<?, ?B/s]"
            ],
            "application/vnd.jupyter.widget-view+json": {
              "version_major": 2,
              "version_minor": 0,
              "model_id": "e82c6055f672446aa9bff6965b33387b"
            }
          },
          "metadata": {}
        },
        {
          "output_type": "display_data",
          "data": {
            "text/plain": [
              "vocab.txt:   0%|          | 0.00/1.40M [00:00<?, ?B/s]"
            ],
            "application/vnd.jupyter.widget-view+json": {
              "version_major": 2,
              "version_minor": 0,
              "model_id": "4909741e1373499a9e292298513a8622"
            }
          },
          "metadata": {}
        },
        {
          "output_type": "display_data",
          "data": {
            "text/plain": [
              "special_tokens_map.json:   0%|          | 0.00/112 [00:00<?, ?B/s]"
            ],
            "application/vnd.jupyter.widget-view+json": {
              "version_major": 2,
              "version_minor": 0,
              "model_id": "4417fd8c2f034749ade4b058df945a1b"
            }
          },
          "metadata": {}
        },
        {
          "output_type": "execute_result",
          "data": {
            "text/plain": [
              "[{'label': 'neutral', 'score': 0.998418927192688}]"
            ]
          },
          "metadata": {},
          "execution_count": 10
        }
      ]
    },
    {
      "cell_type": "markdown",
      "source": [
        "**Пример работы токенизации**"
      ],
      "metadata": {
        "id": "WUIBwsdfT-En"
      }
    },
    {
      "cell_type": "code",
      "source": [
        "tokenizer = BertTokenizer.from_pretrained('SkolkovoInstitute/russian_toxicity_classifier')\n",
        "\n",
        "example_text = 'Пример текста для токенизации'\n",
        "\n",
        "bert_input = tokenizer(example_text, padding='max_length', max_length=10,\n",
        "                       truncation=True, return_tensors=\"pt\")\n",
        "\n",
        "print(bert_input['input_ids'])\n",
        "print(bert_input['attention_mask'])"
      ],
      "metadata": {
        "colab": {
          "base_uri": "https://localhost:8080/"
        },
        "id": "41I6cHpZT1O2",
        "outputId": "9bfd4504-5eb3-4549-db69-ba9284debd1d"
      },
      "execution_count": 11,
      "outputs": [
        {
          "output_type": "stream",
          "name": "stdout",
          "text": [
            "tensor([[  101, 17863, 10316,   949, 15427,   831,  2703,   102,     0,     0]])\n",
            "tensor([[1, 1, 1, 1, 1, 1, 1, 1, 0, 0]])\n"
          ]
        }
      ]
    },
    {
      "cell_type": "code",
      "source": [
        "tokenizer.ids_to_tokens[101], tokenizer.ids_to_tokens[17863], tokenizer.ids_to_tokens[10316]"
      ],
      "metadata": {
        "colab": {
          "base_uri": "https://localhost:8080/"
        },
        "id": "XRHL3HkyT1XJ",
        "outputId": "48b395fe-64e1-4b36-dda9-27a9bc145822"
      },
      "execution_count": 12,
      "outputs": [
        {
          "output_type": "execute_result",
          "data": {
            "text/plain": [
              "('[CLS]', 'Пример', 'текста')"
            ]
          },
          "metadata": {},
          "execution_count": 12
        }
      ]
    },
    {
      "cell_type": "code",
      "source": [
        "example_text = tokenizer.decode(bert_input.input_ids[0])\n",
        "\n",
        "print(example_text)"
      ],
      "metadata": {
        "colab": {
          "base_uri": "https://localhost:8080/"
        },
        "id": "-VVXKwvET1Zy",
        "outputId": "17297875-93bf-41ef-ddd2-eea9c313aca3"
      },
      "execution_count": 13,
      "outputs": [
        {
          "output_type": "stream",
          "name": "stdout",
          "text": [
            "[CLS] Пример текста для токенизации [SEP] [PAD] [PAD]\n"
          ]
        }
      ]
    },
    {
      "cell_type": "code",
      "source": [
        "sentiment = pipeline(\"text-classification\", model='SkolkovoInstitute/russian_toxicity_classifier')\n",
        "\n",
        "idx = 0\n",
        "print(df_train.iloc[idx]['text'])\n",
        "print('label is', df_train.iloc[idx]['class'])\n",
        "print('label by model is', sentiment(df_train.iloc[idx]['text'])[0]['label'], 'with score', sentiment(df_train.iloc[idx]['text'])[0]['score'])"
      ],
      "metadata": {
        "colab": {
          "base_uri": "https://localhost:8080/"
        },
        "id": "WFhaZzShT1cc",
        "outputId": "8e3c7a31-73c6-4d41-815e-864945d3a379"
      },
      "execution_count": 14,
      "outputs": [
        {
          "output_type": "stream",
          "name": "stdout",
          "text": [
            "@alisachachka не уезжаааааааай. :(❤ я тоже не хочу, чтобы ты уезжала.\n",
            "label is 0\n",
            "label by model is neutral with score 0.9937475919723511\n"
          ]
        }
      ]
    },
    {
      "cell_type": "markdown",
      "source": [
        "Dataset и Dataloader"
      ],
      "metadata": {
        "id": "uV1cIrHuV2nP"
      }
    },
    {
      "cell_type": "code",
      "source": [
        "class TwitterDataset(torch.utils.data.Dataset):\n",
        "\n",
        "    def __init__(self, txts, labels):\n",
        "        self._labels = labels\n",
        "\n",
        "        self.tokenizer = BertTokenizer.from_pretrained('SkolkovoInstitute/russian_toxicity_classifier')\n",
        "\n",
        "        self._txts = [self.tokenizer(text, padding='max_length', max_length=10,\n",
        "                                     truncation=True, return_tensors=\"pt\")\n",
        "                      for text in txts]\n",
        "\n",
        "    def __len__(self):\n",
        "        return len(self._txts)\n",
        "\n",
        "    def __getitem__(self, index):\n",
        "        return self._txts[index], self._labels[index]"
      ],
      "metadata": {
        "id": "Fu01jP0NVVbK"
      },
      "execution_count": 15,
      "outputs": []
    },
    {
      "cell_type": "code",
      "source": [
        "y_train = df_train['class'].values\n",
        "y_val = df_val['class'].values\n",
        "\n",
        "train_dataset = TwitterDataset(df_train['text'], y_train)\n",
        "valid_dataset = TwitterDataset(df_val['text'], y_val)\n",
        "\n",
        "train_loader = torch.utils.data.DataLoader(train_dataset,\n",
        "                          batch_size=64,\n",
        "                          shuffle=True,\n",
        "                          num_workers=2)\n",
        "valid_loader = torch.utils.data.DataLoader(valid_dataset,\n",
        "                          batch_size=64,\n",
        "                          shuffle=False,\n",
        "                          num_workers=1)"
      ],
      "metadata": {
        "id": "urAfh7spVV-Y"
      },
      "execution_count": 17,
      "outputs": []
    },
    {
      "cell_type": "code",
      "source": [
        "for txt, lbl in train_loader:\n",
        "    print(txt.keys()) #словарь с ключами'input_ids', 'token_type_ids', 'attention_mask'\n",
        "    print(txt['input_ids'].shape) #тензор размера (B,1,max_len) из id токенов\n",
        "    print(txt['attention_mask'].shape) #тензор размера (B,1,max_len) из индексов, указывающих, на какие токеты модель должна обратить внимание\n",
        "    break"
      ],
      "metadata": {
        "colab": {
          "base_uri": "https://localhost:8080/"
        },
        "id": "lcxCSeTPVWBQ",
        "outputId": "e2ecd3f6-0a28-471d-b8ae-d969f053f44b"
      },
      "execution_count": 18,
      "outputs": [
        {
          "output_type": "stream",
          "name": "stdout",
          "text": [
            "dict_keys(['input_ids', 'token_type_ids', 'attention_mask'])\n",
            "torch.Size([64, 1, 10])\n",
            "torch.Size([64, 1, 10])\n"
          ]
        }
      ]
    },
    {
      "cell_type": "code",
      "source": [
        "device = 'cuda' if torch.cuda.is_available() else 'cpu'\n",
        "device"
      ],
      "metadata": {
        "colab": {
          "base_uri": "https://localhost:8080/",
          "height": 35
        },
        "id": "XCG-6KoVZ83B",
        "outputId": "b05073a6-18f5-4940-9955-94151ed3dfc2"
      },
      "execution_count": 27,
      "outputs": [
        {
          "output_type": "execute_result",
          "data": {
            "text/plain": [
              "'cuda'"
            ],
            "application/vnd.google.colaboratory.intrinsic+json": {
              "type": "string"
            }
          },
          "metadata": {},
          "execution_count": 27
        }
      ]
    },
    {
      "cell_type": "code",
      "source": [
        "model = BertForSequenceClassification.from_pretrained('SkolkovoInstitute/russian_toxicity_classifier').to(device)\n",
        "print(model)\n",
        "print(\"Parameters full train:\", sum([param.nelement() for param in model.parameters()]))\n",
        "print(\"Parameters transfer learning:\", sum([param.nelement() for param in model.classifier.parameters()]))"
      ],
      "metadata": {
        "colab": {
          "base_uri": "https://localhost:8080/"
        },
        "id": "PpPSK-u9VWEP",
        "outputId": "b3d90579-782c-459a-987e-f09a45a082f5"
      },
      "execution_count": 34,
      "outputs": [
        {
          "output_type": "stream",
          "name": "stdout",
          "text": [
            "BertForSequenceClassification(\n",
            "  (bert): BertModel(\n",
            "    (embeddings): BertEmbeddings(\n",
            "      (word_embeddings): Embedding(119547, 768, padding_idx=0)\n",
            "      (position_embeddings): Embedding(512, 768)\n",
            "      (token_type_embeddings): Embedding(2, 768)\n",
            "      (LayerNorm): LayerNorm((768,), eps=1e-12, elementwise_affine=True)\n",
            "      (dropout): Dropout(p=0.1, inplace=False)\n",
            "    )\n",
            "    (encoder): BertEncoder(\n",
            "      (layer): ModuleList(\n",
            "        (0-11): 12 x BertLayer(\n",
            "          (attention): BertAttention(\n",
            "            (self): BertSelfAttention(\n",
            "              (query): Linear(in_features=768, out_features=768, bias=True)\n",
            "              (key): Linear(in_features=768, out_features=768, bias=True)\n",
            "              (value): Linear(in_features=768, out_features=768, bias=True)\n",
            "              (dropout): Dropout(p=0.1, inplace=False)\n",
            "            )\n",
            "            (output): BertSelfOutput(\n",
            "              (dense): Linear(in_features=768, out_features=768, bias=True)\n",
            "              (LayerNorm): LayerNorm((768,), eps=1e-12, elementwise_affine=True)\n",
            "              (dropout): Dropout(p=0.1, inplace=False)\n",
            "            )\n",
            "          )\n",
            "          (intermediate): BertIntermediate(\n",
            "            (dense): Linear(in_features=768, out_features=3072, bias=True)\n",
            "            (intermediate_act_fn): GELUActivation()\n",
            "          )\n",
            "          (output): BertOutput(\n",
            "            (dense): Linear(in_features=3072, out_features=768, bias=True)\n",
            "            (LayerNorm): LayerNorm((768,), eps=1e-12, elementwise_affine=True)\n",
            "            (dropout): Dropout(p=0.1, inplace=False)\n",
            "          )\n",
            "        )\n",
            "      )\n",
            "    )\n",
            "    (pooler): BertPooler(\n",
            "      (dense): Linear(in_features=768, out_features=768, bias=True)\n",
            "      (activation): Tanh()\n",
            "    )\n",
            "  )\n",
            "  (dropout): Dropout(p=0.1, inplace=False)\n",
            "  (classifier): Linear(in_features=768, out_features=2, bias=True)\n",
            ")\n",
            "Parameters full train: 177854978\n",
            "Parameters transfer learning: 1538\n"
          ]
        }
      ]
    },
    {
      "cell_type": "code",
      "source": [
        "criterion = nn.CrossEntropyLoss()\n",
        "optimizer = Adam(model.classifier.parameters(), lr=0.001)\n",
        "epochs = 10"
      ],
      "metadata": {
        "id": "Y_bp3ZfGcAIC"
      },
      "execution_count": 43,
      "outputs": []
    },
    {
      "cell_type": "code",
      "source": [
        "for epoch in range(epochs):\n",
        "    total_acc_train = 0\n",
        "    total_loss_train = 0\n",
        "\n",
        "    model.train()\n",
        "    for train_input, train_label in tqdm(train_loader):\n",
        "        mask = train_input['attention_mask'].to(device)\n",
        "        input_id = train_input['input_ids'].squeeze(1).to(device)\n",
        "        train_label = train_label.to(device)\n",
        "\n",
        "        output = model(input_id, mask)[0]\n",
        "\n",
        "        batch_loss = criterion(output, train_label)\n",
        "        total_loss_train += batch_loss.item()\n",
        "\n",
        "        acc = (output.argmax(dim=1) == train_label).sum().item()\n",
        "        total_acc_train += acc\n",
        "\n",
        "        model.zero_grad()\n",
        "        batch_loss.backward()\n",
        "        optimizer.step()\n",
        "    model.eval()\n",
        "    total_loss_val, total_acc_val = 0.0, 0.0\n",
        "    for val_input, val_label in valid_loader:\n",
        "        val_label = val_label.to(device)\n",
        "        mask = val_input['attention_mask'].to(device)\n",
        "        input_id = val_input['input_ids'].squeeze(1).to(device)\n",
        "\n",
        "        output = model(input_id, mask)[0]\n",
        "\n",
        "        batch_loss = criterion(output, val_label)\n",
        "        total_loss_val += batch_loss.item()\n",
        "\n",
        "        acc = (output.argmax(dim=1) == val_label).sum().item()\n",
        "        total_acc_val += acc\n",
        "    print(\n",
        "        f'Epochs: {epoch + 1} | Train Loss: {total_loss_train / len(train_dataset): .3f} \\\n",
        "        | Train Accuracy: {total_acc_train / len(train_dataset): .3f} \\\n",
        "        | Val Loss: {total_loss_val / len(valid_dataset): .3f} \\\n",
        "        | Val Accuracy: {total_acc_val / len(valid_dataset): .3f}')"
      ],
      "metadata": {
        "colab": {
          "base_uri": "https://localhost:8080/"
        },
        "id": "z6Rk1sFfcP2R",
        "outputId": "48b67216-d78a-461b-de67-925025a181ce"
      },
      "execution_count": 44,
      "outputs": [
        {
          "output_type": "stream",
          "name": "stderr",
          "text": [
            "100%|██████████| 2836/2836 [04:54<00:00,  9.64it/s]\n"
          ]
        },
        {
          "output_type": "stream",
          "name": "stdout",
          "text": [
            "Epochs: 1 | Train Loss:  0.010         | Train Accuracy:  0.589         | Val Loss:  0.010         | Val Accuracy:  0.615\n"
          ]
        },
        {
          "output_type": "stream",
          "name": "stderr",
          "text": [
            "100%|██████████| 2836/2836 [04:55<00:00,  9.60it/s]\n"
          ]
        },
        {
          "output_type": "stream",
          "name": "stdout",
          "text": [
            "Epochs: 2 | Train Loss:  0.010         | Train Accuracy:  0.595         | Val Loss:  0.011         | Val Accuracy:  0.585\n"
          ]
        },
        {
          "output_type": "stream",
          "name": "stderr",
          "text": [
            "100%|██████████| 2836/2836 [04:55<00:00,  9.61it/s]\n"
          ]
        },
        {
          "output_type": "stream",
          "name": "stdout",
          "text": [
            "Epochs: 3 | Train Loss:  0.010         | Train Accuracy:  0.593         | Val Loss:  0.011         | Val Accuracy:  0.602\n"
          ]
        },
        {
          "output_type": "stream",
          "name": "stderr",
          "text": [
            "100%|██████████| 2836/2836 [04:55<00:00,  9.61it/s]\n"
          ]
        },
        {
          "output_type": "stream",
          "name": "stdout",
          "text": [
            "Epochs: 4 | Train Loss:  0.010         | Train Accuracy:  0.596         | Val Loss:  0.010         | Val Accuracy:  0.609\n"
          ]
        },
        {
          "output_type": "stream",
          "name": "stderr",
          "text": [
            "100%|██████████| 2836/2836 [04:55<00:00,  9.60it/s]\n"
          ]
        },
        {
          "output_type": "stream",
          "name": "stdout",
          "text": [
            "Epochs: 5 | Train Loss:  0.010         | Train Accuracy:  0.595         | Val Loss:  0.010         | Val Accuracy:  0.615\n"
          ]
        },
        {
          "output_type": "stream",
          "name": "stderr",
          "text": [
            "100%|██████████| 2836/2836 [04:55<00:00,  9.61it/s]\n"
          ]
        },
        {
          "output_type": "stream",
          "name": "stdout",
          "text": [
            "Epochs: 6 | Train Loss:  0.010         | Train Accuracy:  0.594         | Val Loss:  0.010         | Val Accuracy:  0.612\n"
          ]
        },
        {
          "output_type": "stream",
          "name": "stderr",
          "text": [
            "100%|██████████| 2836/2836 [04:54<00:00,  9.62it/s]\n"
          ]
        },
        {
          "output_type": "stream",
          "name": "stdout",
          "text": [
            "Epochs: 7 | Train Loss:  0.010         | Train Accuracy:  0.595         | Val Loss:  0.010         | Val Accuracy:  0.611\n"
          ]
        },
        {
          "output_type": "stream",
          "name": "stderr",
          "text": [
            "100%|██████████| 2836/2836 [04:54<00:00,  9.62it/s]\n"
          ]
        },
        {
          "output_type": "stream",
          "name": "stdout",
          "text": [
            "Epochs: 8 | Train Loss:  0.010         | Train Accuracy:  0.595         | Val Loss:  0.010         | Val Accuracy:  0.622\n"
          ]
        },
        {
          "output_type": "stream",
          "name": "stderr",
          "text": [
            "100%|██████████| 2836/2836 [04:55<00:00,  9.58it/s]\n"
          ]
        },
        {
          "output_type": "stream",
          "name": "stdout",
          "text": [
            "Epochs: 9 | Train Loss:  0.010         | Train Accuracy:  0.596         | Val Loss:  0.010         | Val Accuracy:  0.607\n"
          ]
        },
        {
          "output_type": "stream",
          "name": "stderr",
          "text": [
            "100%|██████████| 2836/2836 [04:55<00:00,  9.61it/s]\n"
          ]
        },
        {
          "output_type": "stream",
          "name": "stdout",
          "text": [
            "Epochs: 10 | Train Loss:  0.010         | Train Accuracy:  0.595         | Val Loss:  0.010         | Val Accuracy:  0.619\n"
          ]
        }
      ]
    },
    {
      "cell_type": "code",
      "source": [
        "df_train = pd.read_csv(\"train.csv\")\n",
        "df_val = pd.read_csv(\"val.csv\")\n",
        "\n",
        "df_train.shape, df_val.shape"
      ],
      "metadata": {
        "colab": {
          "base_uri": "https://localhost:8080/"
        },
        "id": "mu1a05REyK95",
        "outputId": "ceff4099-4e8d-4189-c391-9a1192ca25c2"
      },
      "execution_count": 45,
      "outputs": [
        {
          "output_type": "execute_result",
          "data": {
            "text/plain": [
              "((181467, 3), (22683, 3))"
            ]
          },
          "metadata": {},
          "execution_count": 45
        }
      ]
    },
    {
      "cell_type": "code",
      "source": [
        "df_train['text'] = df_train['text'].apply(lambda x: x.lower())\n",
        "df_val['text'] = df_val['text'].apply(lambda x: x.lower())"
      ],
      "metadata": {
        "id": "R7cm-kUpyMbX"
      },
      "execution_count": 46,
      "outputs": []
    },
    {
      "cell_type": "code",
      "source": [
        "y_train = df_train['class'].values\n",
        "y_val = df_val['class'].values\n",
        "\n",
        "train_dataset = TwitterDataset(df_train['text'], y_train)\n",
        "valid_dataset = TwitterDataset(df_val['text'], y_val)\n",
        "\n",
        "train_loader = torch.utils.data.DataLoader(train_dataset,\n",
        "                          batch_size=64,\n",
        "                          shuffle=True,\n",
        "                          num_workers=2)\n",
        "valid_loader = torch.utils.data.DataLoader(valid_dataset,\n",
        "                          batch_size=64,\n",
        "                          shuffle=False,\n",
        "                          num_workers=1)"
      ],
      "metadata": {
        "id": "QLvJFxIPyMjE"
      },
      "execution_count": 47,
      "outputs": []
    },
    {
      "cell_type": "code",
      "source": [
        "for txt, lbl in train_loader:\n",
        "    print(txt.keys())\n",
        "    print(txt['input_ids'].shape)\n",
        "    break"
      ],
      "metadata": {
        "colab": {
          "base_uri": "https://localhost:8080/"
        },
        "id": "r3tU-0sSyMlt",
        "outputId": "075207c6-b3e8-43f3-9380-d431dc582b7f"
      },
      "execution_count": 48,
      "outputs": [
        {
          "output_type": "stream",
          "name": "stdout",
          "text": [
            "dict_keys(['input_ids', 'token_type_ids', 'attention_mask'])\n",
            "torch.Size([64, 1, 10])\n"
          ]
        }
      ]
    },
    {
      "cell_type": "code",
      "source": [
        "model2 = BertForSequenceClassification.from_pretrained('SkolkovoInstitute/russian_toxicity_classifier').to(device)\n",
        "print(model2)\n",
        "print(\"Parameters full train:\", sum([param.nelement() for param in model.parameters()]))\n",
        "print(\"Parameters transfer learning:\", sum([param.nelement() for param in model.classifier.parameters()]))"
      ],
      "metadata": {
        "colab": {
          "base_uri": "https://localhost:8080/"
        },
        "id": "es6S6AX_x6BX",
        "outputId": "48b00854-2d6a-4115-cade-2bc3fa802495"
      },
      "execution_count": 49,
      "outputs": [
        {
          "output_type": "stream",
          "name": "stdout",
          "text": [
            "BertForSequenceClassification(\n",
            "  (bert): BertModel(\n",
            "    (embeddings): BertEmbeddings(\n",
            "      (word_embeddings): Embedding(119547, 768, padding_idx=0)\n",
            "      (position_embeddings): Embedding(512, 768)\n",
            "      (token_type_embeddings): Embedding(2, 768)\n",
            "      (LayerNorm): LayerNorm((768,), eps=1e-12, elementwise_affine=True)\n",
            "      (dropout): Dropout(p=0.1, inplace=False)\n",
            "    )\n",
            "    (encoder): BertEncoder(\n",
            "      (layer): ModuleList(\n",
            "        (0-11): 12 x BertLayer(\n",
            "          (attention): BertAttention(\n",
            "            (self): BertSelfAttention(\n",
            "              (query): Linear(in_features=768, out_features=768, bias=True)\n",
            "              (key): Linear(in_features=768, out_features=768, bias=True)\n",
            "              (value): Linear(in_features=768, out_features=768, bias=True)\n",
            "              (dropout): Dropout(p=0.1, inplace=False)\n",
            "            )\n",
            "            (output): BertSelfOutput(\n",
            "              (dense): Linear(in_features=768, out_features=768, bias=True)\n",
            "              (LayerNorm): LayerNorm((768,), eps=1e-12, elementwise_affine=True)\n",
            "              (dropout): Dropout(p=0.1, inplace=False)\n",
            "            )\n",
            "          )\n",
            "          (intermediate): BertIntermediate(\n",
            "            (dense): Linear(in_features=768, out_features=3072, bias=True)\n",
            "            (intermediate_act_fn): GELUActivation()\n",
            "          )\n",
            "          (output): BertOutput(\n",
            "            (dense): Linear(in_features=3072, out_features=768, bias=True)\n",
            "            (LayerNorm): LayerNorm((768,), eps=1e-12, elementwise_affine=True)\n",
            "            (dropout): Dropout(p=0.1, inplace=False)\n",
            "          )\n",
            "        )\n",
            "      )\n",
            "    )\n",
            "    (pooler): BertPooler(\n",
            "      (dense): Linear(in_features=768, out_features=768, bias=True)\n",
            "      (activation): Tanh()\n",
            "    )\n",
            "  )\n",
            "  (dropout): Dropout(p=0.1, inplace=False)\n",
            "  (classifier): Linear(in_features=768, out_features=2, bias=True)\n",
            ")\n",
            "Parameters full train: 177854978\n",
            "Parameters transfer learning: 1538\n"
          ]
        }
      ]
    },
    {
      "cell_type": "code",
      "source": [
        "criterion = nn.CrossEntropyLoss()\n",
        "optimizer = Adam(model.classifier.parameters(), lr=0.001)\n",
        "epochs = 2"
      ],
      "metadata": {
        "id": "kUlfnP3YyAmt"
      },
      "execution_count": 50,
      "outputs": []
    },
    {
      "cell_type": "code",
      "source": [
        "for epoch in range(epochs):\n",
        "    total_acc_train = 0\n",
        "    total_loss_train = 0\n",
        "\n",
        "    model.train()\n",
        "    for train_input, train_label in tqdm(train_loader):\n",
        "        mask = train_input['attention_mask'].to(device)\n",
        "        input_id = train_input['input_ids'].squeeze(1).to(device)\n",
        "        train_label = train_label.to(device)\n",
        "\n",
        "        output = model(input_id, mask)[0]\n",
        "\n",
        "        batch_loss = criterion(output, train_label)\n",
        "        total_loss_train += batch_loss.item()\n",
        "\n",
        "        acc = (output.argmax(dim=1) == train_label).sum().item()\n",
        "        total_acc_train += acc\n",
        "\n",
        "        model.zero_grad()\n",
        "        batch_loss.backward()\n",
        "        optimizer.step()\n",
        "    model.eval()\n",
        "    total_loss_val, total_acc_val = 0.0, 0.0\n",
        "    for val_input, val_label in valid_loader:\n",
        "        val_label = val_label.to(device)\n",
        "        mask = val_input['attention_mask'].to(device)\n",
        "        input_id = val_input['input_ids'].squeeze(1).to(device)\n",
        "\n",
        "        output = model(input_id, mask)[0]\n",
        "\n",
        "        batch_loss = criterion(output, val_label)\n",
        "        total_loss_val += batch_loss.item()\n",
        "\n",
        "        acc = (output.argmax(dim=1) == val_label).sum().item()\n",
        "        total_acc_val += acc\n",
        "    print(\n",
        "        f'Epochs: {epoch + 1} | Train Loss: {total_loss_train / len(train_dataset): .3f} \\\n",
        "        | Train Accuracy: {total_acc_train / len(train_dataset): .3f} \\\n",
        "        | Val Loss: {total_loss_val / len(valid_dataset): .3f} \\\n",
        "        | Val Accuracy: {total_acc_val / len(valid_dataset): .3f}')"
      ],
      "metadata": {
        "colab": {
          "base_uri": "https://localhost:8080/"
        },
        "id": "SSwyiPU9zHHL",
        "outputId": "15b52e05-f72a-4bc6-e5fd-bbcfa41beb80"
      },
      "execution_count": 52,
      "outputs": [
        {
          "output_type": "stream",
          "name": "stderr",
          "text": [
            "100%|██████████| 2836/2836 [04:52<00:00,  9.70it/s]\n"
          ]
        },
        {
          "output_type": "stream",
          "name": "stdout",
          "text": [
            "Epochs: 1 | Train Loss:  0.011         | Train Accuracy:  0.582         | Val Loss:  0.010         | Val Accuracy:  0.616\n"
          ]
        },
        {
          "output_type": "stream",
          "name": "stderr",
          "text": [
            "100%|██████████| 2836/2836 [04:55<00:00,  9.60it/s]\n"
          ]
        },
        {
          "output_type": "stream",
          "name": "stdout",
          "text": [
            "Epochs: 2 | Train Loss:  0.011         | Train Accuracy:  0.585         | Val Loss:  0.010         | Val Accuracy:  0.620\n"
          ]
        }
      ]
    }
  ]
}